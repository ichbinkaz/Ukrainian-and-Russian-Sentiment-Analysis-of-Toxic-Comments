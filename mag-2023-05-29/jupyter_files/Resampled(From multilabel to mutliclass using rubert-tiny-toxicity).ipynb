{
 "cells": [
  {
   "cell_type": "code",
   "execution_count": 2,
   "metadata": {},
   "outputs": [],
   "source": [
    "import tensorflow as tf\n",
    "import pandas as pd\n",
    "from transformers import AutoTokenizer, TFAutoModelForSequenceClassification"
   ]
  },
  {
   "cell_type": "code",
   "execution_count": 3,
   "metadata": {},
   "outputs": [],
   "source": [
    "\n",
    "import numpy as np\n",
    "import pandas as pd\n",
    "import torch\n",
    "import torch.nn as nn\n",
    "from sklearn.model_selection import train_test_split\n",
    "from sklearn.metrics import classification_report\n",
    "import transformers\n",
    "from transformers import AutoModel, BertTokenizerFast\n",
    "\n",
    "# specify GPU\n",
    "device = torch.device(\"cuda\")"
   ]
  },
  {
   "cell_type": "code",
   "execution_count": 4,
   "metadata": {},
   "outputs": [],
   "source": [
    "import os\n",
    "import sys\n",
    "sys.path.append(os.path.join(os.environ['USERPROFILE'], '.local', 'lib', 'python3.7', 'site-packages'))\n"
   ]
  },
  {
   "cell_type": "code",
   "execution_count": 5,
   "metadata": {},
   "outputs": [],
   "source": [
    "data = pd.read_csv(\"../../Desktop/notebooks/mult_ds_preprocessed.csv\")"
   ]
  },
  {
   "cell_type": "code",
   "execution_count": 6,
   "metadata": {
    "executionInfo": {
     "elapsed": 263,
     "status": "ok",
     "timestamp": 1678287382509,
     "user": {
      "displayName": "Daniil Vdovenko",
      "userId": "15689310923878182178"
     },
     "user_tz": -120
    },
    "id": "7WBV6onyuPml"
   },
   "outputs": [],
   "source": [
    "data_cleaned = data.dropna()"
   ]
  },
  {
   "cell_type": "code",
   "execution_count": 24,
   "metadata": {
    "colab": {
     "base_uri": "https://localhost:8080/"
    },
    "executionInfo": {
     "elapsed": 280,
     "status": "ok",
     "timestamp": 1678287395279,
     "user": {
      "displayName": "Daniil Vdovenko",
      "userId": "15689310923878182178"
     },
     "user_tz": -120
    },
    "id": "u9m9T4DsuUbf",
    "outputId": "fb88bea8-b70f-423e-d3bc-2f3a2bed6303"
   },
   "outputs": [
    {
     "name": "stderr",
     "output_type": "stream",
     "text": [
      "C:\\Users\\DVdovenko\\AppData\\Local\\Temp\\ipykernel_4004\\3181892689.py:1: SettingWithCopyWarning: \n",
      "A value is trying to be set on a copy of a slice from a DataFrame.\n",
      "Try using .loc[row_indexer,col_indexer] = value instead\n",
      "\n",
      "See the caveats in the documentation: https://pandas.pydata.org/pandas-docs/stable/user_guide/indexing.html#returning-a-view-versus-a-copy\n",
      "  data_cleaned[\"identity_hate\"] = data_cleaned[\"identity_hate\"].astype(int)\n"
     ]
    }
   ],
   "source": [
    "data_cleaned[\"identity_hate\"] = data_cleaned[\"identity_hate\"].astype(int)"
   ]
  },
  {
   "cell_type": "code",
   "execution_count": 25,
   "metadata": {
    "colab": {
     "base_uri": "https://localhost:8080/"
    },
    "executionInfo": {
     "elapsed": 267,
     "status": "ok",
     "timestamp": 1678287406655,
     "user": {
      "displayName": "Daniil Vdovenko",
      "userId": "15689310923878182178"
     },
     "user_tz": -120
    },
    "id": "Jc4dpNFRuV52",
    "outputId": "cfe25408-5320-42c3-d580-61a89c3fa3e0"
   },
   "outputs": [
    {
     "data": {
      "text/plain": [
       "(42881, 9)"
      ]
     },
     "execution_count": 25,
     "metadata": {},
     "output_type": "execute_result"
    }
   ],
   "source": [
    "data_cleaned.shape"
   ]
  },
  {
   "cell_type": "code",
   "execution_count": 26,
   "metadata": {},
   "outputs": [
    {
     "data": {
      "text/html": [
       "<div>\n",
       "<style scoped>\n",
       "    .dataframe tbody tr th:only-of-type {\n",
       "        vertical-align: middle;\n",
       "    }\n",
       "\n",
       "    .dataframe tbody tr th {\n",
       "        vertical-align: top;\n",
       "    }\n",
       "\n",
       "    .dataframe thead th {\n",
       "        text-align: right;\n",
       "    }\n",
       "</style>\n",
       "<table border=\"1\" class=\"dataframe\">\n",
       "  <thead>\n",
       "    <tr style=\"text-align: right;\">\n",
       "      <th></th>\n",
       "      <th>Unnamed: 0</th>\n",
       "      <th>id</th>\n",
       "      <th>comment_text</th>\n",
       "      <th>toxic</th>\n",
       "      <th>severe_toxic</th>\n",
       "      <th>obscene</th>\n",
       "      <th>threat</th>\n",
       "      <th>insult</th>\n",
       "      <th>identity_hate</th>\n",
       "    </tr>\n",
       "  </thead>\n",
       "  <tbody>\n",
       "    <tr>\n",
       "      <th>0</th>\n",
       "      <td>0</td>\n",
       "      <td>426417035bd5b20c</td>\n",
       "      <td>пропонований злиття неформалізм стаття існуват...</td>\n",
       "      <td>0</td>\n",
       "      <td>0</td>\n",
       "      <td>0</td>\n",
       "      <td>0</td>\n",
       "      <td>0</td>\n",
       "      <td>0</td>\n",
       "    </tr>\n",
       "    <tr>\n",
       "      <th>1</th>\n",
       "      <td>1</td>\n",
       "      <td>4264fd1c363935d3</td>\n",
       "      <td>колір фон заповнення колір фон світлосірий вер...</td>\n",
       "      <td>0</td>\n",
       "      <td>0</td>\n",
       "      <td>0</td>\n",
       "      <td>0</td>\n",
       "      <td>0</td>\n",
       "      <td>0</td>\n",
       "    </tr>\n",
       "    <tr>\n",
       "      <th>2</th>\n",
       "      <td>2</td>\n",
       "      <td>4265fd7c2447bc08</td>\n",
       "      <td>жила скеля половина австралійський англійський...</td>\n",
       "      <td>0</td>\n",
       "      <td>0</td>\n",
       "      <td>0</td>\n",
       "      <td>0</td>\n",
       "      <td>0</td>\n",
       "      <td>0</td>\n",
       "    </tr>\n",
       "    <tr>\n",
       "      <th>3</th>\n",
       "      <td>3</td>\n",
       "      <td>4266b67c57e3cfbb</td>\n",
       "      <td>японський назва місто переглянути пост вікіпед...</td>\n",
       "      <td>0</td>\n",
       "      <td>0</td>\n",
       "      <td>0</td>\n",
       "      <td>0</td>\n",
       "      <td>0</td>\n",
       "      <td>0</td>\n",
       "    </tr>\n",
       "    <tr>\n",
       "      <th>4</th>\n",
       "      <td>4</td>\n",
       "      <td>426a0fd1b3460373</td>\n",
       "      <td>небажання обговорювати будьякий змінити свідчи...</td>\n",
       "      <td>1</td>\n",
       "      <td>0</td>\n",
       "      <td>0</td>\n",
       "      <td>0</td>\n",
       "      <td>0</td>\n",
       "      <td>0</td>\n",
       "    </tr>\n",
       "  </tbody>\n",
       "</table>\n",
       "</div>"
      ],
      "text/plain": [
       "   Unnamed: 0                id  \\\n",
       "0           0  426417035bd5b20c   \n",
       "1           1  4264fd1c363935d3   \n",
       "2           2  4265fd7c2447bc08   \n",
       "3           3  4266b67c57e3cfbb   \n",
       "4           4  426a0fd1b3460373   \n",
       "\n",
       "                                        comment_text  toxic  severe_toxic  \\\n",
       "0  пропонований злиття неформалізм стаття існуват...      0             0   \n",
       "1  колір фон заповнення колір фон світлосірий вер...      0             0   \n",
       "2  жила скеля половина австралійський англійський...      0             0   \n",
       "3  японський назва місто переглянути пост вікіпед...      0             0   \n",
       "4  небажання обговорювати будьякий змінити свідчи...      1             0   \n",
       "\n",
       "   obscene  threat  insult  identity_hate  \n",
       "0        0       0       0              0  \n",
       "1        0       0       0              0  \n",
       "2        0       0       0              0  \n",
       "3        0       0       0              0  \n",
       "4        0       0       0              0  "
      ]
     },
     "execution_count": 26,
     "metadata": {},
     "output_type": "execute_result"
    }
   ],
   "source": [
    "data_cleaned.head()"
   ]
  },
  {
   "cell_type": "code",
   "execution_count": 143,
   "metadata": {},
   "outputs": [],
   "source": [
    "# Select only the \"comment_text\" and \"toxic\" columns\n",
    "selected_columns = ['comment_text', 'toxic']\n",
    "data = data_cleaned[selected_columns]\n"
   ]
  },
  {
   "cell_type": "code",
   "execution_count": 145,
   "metadata": {},
   "outputs": [
    {
     "name": "stderr",
     "output_type": "stream",
     "text": [
      "C:\\Users\\DVdovenko\\AppData\\Local\\Temp\\ipykernel_5728\\4071066043.py:1: SettingWithCopyWarning: \n",
      "A value is trying to be set on a copy of a slice from a DataFrame.\n",
      "Try using .loc[row_indexer,col_indexer] = value instead\n",
      "\n",
      "See the caveats in the documentation: https://pandas.pydata.org/pandas-docs/stable/user_guide/indexing.html#returning-a-view-versus-a-copy\n",
      "  data[\"toxic\"] = data[\"toxic\"].astype(int)\n"
     ]
    }
   ],
   "source": [
    "data[\"toxic\"] = data[\"toxic\"].astype(int)"
   ]
  },
  {
   "cell_type": "code",
   "execution_count": 239,
   "metadata": {},
   "outputs": [],
   "source": [
    "from sklearn.model_selection import train_test_split\n",
    "\n",
    "# Split into training and test sets\n",
    "train_data, test_data, train_labels, test_labels = train_test_split(data['comment_text'], data['toxic'], test_size=0.2, random_state=42)\n",
    "\n",
    "# Split the training data into training and validation sets\n",
    "train_data, val_data, train_labels, val_labels = train_test_split(train_data, train_labels, test_size=0.2, random_state=42)"
   ]
  },
  {
   "cell_type": "code",
   "execution_count": 240,
   "metadata": {},
   "outputs": [],
   "source": [
    "train_data = [' '.join(map(str, example)) for example in train_data.tolist()]\n",
    "val_data = [' '.join(map(str, example)) for example in val_data.tolist()]\n",
    "test_data = [' '.join(map(str, example)) for example in test_data.tolist()]\n"
   ]
  },
  {
   "cell_type": "markdown",
   "metadata": {},
   "source": [
    "## Utilization of rubert-tiny-toxicity model for transfer-learning in order to label the dataset with multiple classes"
   ]
  },
  {
   "cell_type": "code",
   "execution_count": 64,
   "metadata": {},
   "outputs": [],
   "source": [
    "from transformers import TFAutoModel, BertTokenizerFast\n",
    "from transformers import AutoTokenizer, AutoModelForSequenceClassification\n",
    "\n",
    "tokenizer = AutoTokenizer.from_pretrained('cointegrated/rubert-tiny-toxicity')\n",
    "\n",
    "model = AutoModelForSequenceClassification.from_pretrained('cointegrated/rubert-tiny-toxicity')\n"
   ]
  },
  {
   "cell_type": "code",
   "execution_count": 65,
   "metadata": {},
   "outputs": [],
   "source": [
    "#Splitting the dataset into comments and features\n",
    "\n",
    "X = data['comment_text']\n",
    "y = data[data.columns[3:]].values\n",
    "X = X.astype('str')"
   ]
  },
  {
   "cell_type": "code",
   "execution_count": 66,
   "metadata": {},
   "outputs": [],
   "source": [
    "df = pd.DataFrame(np.array(data['comment_text']), columns=['comment_text'])"
   ]
  },
  {
   "cell_type": "code",
   "execution_count": 68,
   "metadata": {},
   "outputs": [],
   "source": [
    "def sentiment_score(review):\n",
    "    tokens = tokenizer.encode(review, return_tensors='pt')\n",
    "    result = model(tokens)\n",
    "    return int(torch.argmax(result.logits))+1"
   ]
  },
  {
   "cell_type": "code",
   "execution_count": 58,
   "metadata": {},
   "outputs": [],
   "source": [
    "X = [str(x) for x in X]\n"
   ]
  },
  {
   "cell_type": "code",
   "execution_count": 73,
   "metadata": {},
   "outputs": [],
   "source": [
    "df['comment_text'] = df['comment_text'].astype('str')"
   ]
  },
  {
   "cell_type": "code",
   "execution_count": 74,
   "metadata": {},
   "outputs": [],
   "source": [
    "df['sentiment'] = df['comment_text'].apply(lambda x: sentiment_score(x[:512]))"
   ]
  },
  {
   "cell_type": "code",
   "execution_count": 77,
   "metadata": {},
   "outputs": [
    {
     "data": {
      "text/html": [
       "<div>\n",
       "<style scoped>\n",
       "    .dataframe tbody tr th:only-of-type {\n",
       "        vertical-align: middle;\n",
       "    }\n",
       "\n",
       "    .dataframe tbody tr th {\n",
       "        vertical-align: top;\n",
       "    }\n",
       "\n",
       "    .dataframe thead th {\n",
       "        text-align: right;\n",
       "    }\n",
       "</style>\n",
       "<table border=\"1\" class=\"dataframe\">\n",
       "  <thead>\n",
       "    <tr style=\"text-align: right;\">\n",
       "      <th></th>\n",
       "      <th>comment_text</th>\n",
       "      <th>sentiment</th>\n",
       "    </tr>\n",
       "  </thead>\n",
       "  <tbody>\n",
       "    <tr>\n",
       "      <th>0</th>\n",
       "      <td>пропонований злиття неформалізм стаття існуват...</td>\n",
       "      <td>1</td>\n",
       "    </tr>\n",
       "    <tr>\n",
       "      <th>1</th>\n",
       "      <td>колір фон заповнення колір фон світлосірий вер...</td>\n",
       "      <td>1</td>\n",
       "    </tr>\n",
       "    <tr>\n",
       "      <th>2</th>\n",
       "      <td>жила скеля половина австралійський англійський...</td>\n",
       "      <td>1</td>\n",
       "    </tr>\n",
       "    <tr>\n",
       "      <th>3</th>\n",
       "      <td>японський назва місто переглянути пост вікіпед...</td>\n",
       "      <td>1</td>\n",
       "    </tr>\n",
       "    <tr>\n",
       "      <th>4</th>\n",
       "      <td>небажання обговорювати будьякий змінити свідчи...</td>\n",
       "      <td>5</td>\n",
       "    </tr>\n",
       "    <tr>\n",
       "      <th>...</th>\n",
       "      <td>...</td>\n",
       "      <td>...</td>\n",
       "    </tr>\n",
       "    <tr>\n",
       "      <th>43087</th>\n",
       "      <td>это объясняться страница обсуждение нервный ан...</td>\n",
       "      <td>1</td>\n",
       "    </tr>\n",
       "    <tr>\n",
       "      <th>43088</th>\n",
       "      <td>предложение совместный работа статья привет со...</td>\n",
       "      <td>5</td>\n",
       "    </tr>\n",
       "    <tr>\n",
       "      <th>43089</th>\n",
       "      <td>это уля глостершир хотя одноимённый гастропаб ...</td>\n",
       "      <td>5</td>\n",
       "    </tr>\n",
       "    <tr>\n",
       "      <th>43090</th>\n",
       "      <td>спасибо тёплый приём гомосексуальный гей фрукт...</td>\n",
       "      <td>2</td>\n",
       "    </tr>\n",
       "    <tr>\n",
       "      <th>43091</th>\n",
       "      <td>ненависть являться адекватный реакция сцена из...</td>\n",
       "      <td>1</td>\n",
       "    </tr>\n",
       "  </tbody>\n",
       "</table>\n",
       "<p>43092 rows × 2 columns</p>\n",
       "</div>"
      ],
      "text/plain": [
       "                                            comment_text  sentiment\n",
       "0      пропонований злиття неформалізм стаття існуват...          1\n",
       "1      колір фон заповнення колір фон світлосірий вер...          1\n",
       "2      жила скеля половина австралійський англійський...          1\n",
       "3      японський назва місто переглянути пост вікіпед...          1\n",
       "4      небажання обговорювати будьякий змінити свідчи...          5\n",
       "...                                                  ...        ...\n",
       "43087  это объясняться страница обсуждение нервный ан...          1\n",
       "43088  предложение совместный работа статья привет со...          5\n",
       "43089  это уля глостершир хотя одноимённый гастропаб ...          5\n",
       "43090  спасибо тёплый приём гомосексуальный гей фрукт...          2\n",
       "43091  ненависть являться адекватный реакция сцена из...          1\n",
       "\n",
       "[43092 rows x 2 columns]"
      ]
     },
     "execution_count": 77,
     "metadata": {},
     "output_type": "execute_result"
    }
   ],
   "source": [
    "df"
   ]
  },
  {
   "cell_type": "code",
   "execution_count": 78,
   "metadata": {},
   "outputs": [],
   "source": [
    "non_toxic = df[df[\"sentiment\"] == 1]\n",
    "insult = df[df[\"sentiment\"] == 2]\n",
    "obscenity = df[df[\"sentiment\"]==3]\n",
    "threat = df[df[\"sentiment\"]==4]\n",
    "dangerous = df[df[\"sentiment\"]==5]\n",
    "\n",
    "\n",
    "n_non_toxic = len(non_toxic)\n",
    "n_insult = len(insult)\n",
    "n_obscenity = len(obscenity)\n",
    "n_threat = len(threat)\n",
    "n_dangerous = len(dangerous)\n"
   ]
  },
  {
   "cell_type": "code",
   "execution_count": 79,
   "metadata": {},
   "outputs": [
    {
     "data": {
      "text/plain": [
       "35755"
      ]
     },
     "execution_count": 79,
     "metadata": {},
     "output_type": "execute_result"
    }
   ],
   "source": [
    "n_non_toxic"
   ]
  },
  {
   "cell_type": "code",
   "execution_count": 80,
   "metadata": {},
   "outputs": [
    {
     "data": {
      "text/plain": [
       "1216"
      ]
     },
     "execution_count": 80,
     "metadata": {},
     "output_type": "execute_result"
    }
   ],
   "source": [
    "n_insult"
   ]
  },
  {
   "cell_type": "code",
   "execution_count": 81,
   "metadata": {},
   "outputs": [
    {
     "data": {
      "text/plain": [
       "412"
      ]
     },
     "execution_count": 81,
     "metadata": {},
     "output_type": "execute_result"
    }
   ],
   "source": [
    "n_obscenity"
   ]
  },
  {
   "cell_type": "code",
   "execution_count": 82,
   "metadata": {},
   "outputs": [
    {
     "data": {
      "text/plain": [
       "449"
      ]
     },
     "execution_count": 82,
     "metadata": {},
     "output_type": "execute_result"
    }
   ],
   "source": [
    "n_threat"
   ]
  },
  {
   "cell_type": "code",
   "execution_count": 83,
   "metadata": {},
   "outputs": [
    {
     "data": {
      "text/plain": [
       "5260"
      ]
     },
     "execution_count": 83,
     "metadata": {},
     "output_type": "execute_result"
    }
   ],
   "source": [
    "n_dangerous"
   ]
  },
  {
   "cell_type": "code",
   "execution_count": 84,
   "metadata": {},
   "outputs": [],
   "source": [
    "df.to_csv(\"multiclass_mult.csv\")"
   ]
  },
  {
   "cell_type": "code",
   "execution_count": 85,
   "metadata": {},
   "outputs": [
    {
     "data": {
      "text/plain": [
       "[                                            comment_text  sentiment\n",
       " 0      пропонований злиття неформалізм стаття існуват...          1\n",
       " 1      колір фон заповнення колір фон світлосірий вер...          1\n",
       " 2      жила скеля половина австралійський англійський...          1\n",
       " 3      японський назва місто переглянути пост вікіпед...          1\n",
       " 5      реорганізація втомитися працювати проект вулка...          1\n",
       " ...                                                  ...        ...\n",
       " 43083  полностью согласный википедия список вещь умен...          1\n",
       " 43085          редверс редверс преследовать преследовать          1\n",
       " 43086  просто совершенно неправильно процитировать во...          1\n",
       " 43087  это объясняться страница обсуждение нервный ан...          1\n",
       " 43091  ненависть являться адекватный реакция сцена из...          1\n",
       " \n",
       " [35755 rows x 2 columns],\n",
       "                                             comment_text  sentiment\n",
       " 47     подуматирепутація тисяча визначатися поведінка...          2\n",
       " 110    любити руйнувати думати творення божий робот р...          2\n",
       " 173    пояснити ласка цитований джерело підтверджуват...          2\n",
       " 188    повідомлятися тролінг жорстко тролити джош уер...          2\n",
       " 210      старий пума старий пума старий пума старий пума          2\n",
       " ...                                                  ...        ...\n",
       " 42860  слушайте сладкий рэп пашмитта дерьмо чемпион ш...          2\n",
       " 42887  честно говорить действительно против блок прес...          2\n",
       " 42981  учитель привет студент ваш класс интересно поч...          2\n",
       " 43030  черта сука черта взять паршивый вводить заблуж...          2\n",
       " 43090  спасибо тёплый приём гомосексуальный гей фрукт...          2\n",
       " \n",
       " [1216 rows x 2 columns],\n",
       "                                             comment_text  sentiment\n",
       " 217    заснути клоун зїсти піти трахнути шматко кабан...          3\n",
       " 290    трахкаючи брехливий ніггера піднімати шматок л...          3\n",
       " 377    трахати півень трахати погана робити інтернетс...          3\n",
       " 498                       спати трахнути вбю заблокувати          3\n",
       " 671                                ненавидь трахати пара          3\n",
       " ...                                                  ...        ...\n",
       " 42610  наплеватьвот личный атака википедия идти трахнуть          3\n",
       " 42631  трахнуть сукин сын твой сделать скрипучий трах...          3\n",
       " 42808  насчёт вместо послать трахать хм насча это пон...          3\n",
       " 42871                       прежде пойти мочь трахнуться          3\n",
       " 43049  давать дерьмо давать трахнуть статья смеяться ...          3\n",
       " \n",
       " [412 rows x 2 columns],\n",
       "                                             comment_text  sentiment\n",
       " 678    лінь самостійно виправляти дозволяти бот викон...          4\n",
       " 843             забанять додатковий повідомлення розмова          4\n",
       " 2508                             байдуже приходити убити          4\n",
       " 7814                                смерть ревіти олівер          4\n",
       " 10176          припинити бити змінити адреса повернутися          4\n",
       " ...                                                  ...        ...\n",
       " 42902                            мочь иметь дело обидчик          4\n",
       " 42939  мочь убрать реальность страница мочь убрать уп...          4\n",
       " 42943  также мочь закончить это перенаправлениеть хот...          4\n",
       " 43014  карибский кризис гипотетический обмен ядерный ...          4\n",
       " 43069  дело скопировать откудато также мочь принимать...          4\n",
       " \n",
       " [449 rows x 2 columns],\n",
       "                                             comment_text  sentiment\n",
       " 4      небажання обговорювати будьякий змінити свідчи...          5\n",
       " 8      видалити нечутливий думати фобія існувати знай...          5\n",
       " 11     повернутися відновлюючи видалений сторінка гей...          5\n",
       " 23     хах хейсон знати надіслати електронний лист до...          5\n",
       " 26     джерело цитуватися стаття вказати місія вебсай...          5\n",
       " ...                                                  ...        ...\n",
       " 43057  ответ ваш неприятный личный нападки человек бл...          5\n",
       " 43059  являться исключение немногие человеческий мужч...          5\n",
       " 43084  обама вовлечь какиелибо спор это факт никакой ...          5\n",
       " 43088  предложение совместный работа статья привет со...          5\n",
       " 43089  это уля глостершир хотя одноимённый гастропаб ...          5\n",
       " \n",
       " [5260 rows x 2 columns]]"
      ]
     },
     "execution_count": 85,
     "metadata": {},
     "output_type": "execute_result"
    }
   ],
   "source": [
    "import pandas as pd\n",
    "import numpy as np\n",
    "\n",
    "# Define the class labels and dataframes\n",
    "labels = [1, 2, 3, 4, 5]\n",
    "dfs = [df[df[\"sentiment\"] == label] for label in labels]\n",
    "\n",
    "\n"
   ]
  },
  {
   "cell_type": "code",
   "execution_count": 86,
   "metadata": {},
   "outputs": [],
   "source": [
    "# Find the class with the largest number of samples\n",
    "max_samples = max([len(df) for df in dfs])\n",
    "\n",
    "# Resample each class to match the largest number of samples\n",
    "resampled_dfs = []\n",
    "for df in dfs:\n",
    "    if len(df) < max_samples:\n",
    "        resampled_dfs.append(df.sample(n=max_samples, replace=True))\n",
    "    else:\n",
    "        resampled_dfs.append(df.sample(n=max_samples))\n",
    "\n",
    "# Concatenate the resampled dataframes and shuffle the rows\n",
    "resampled_df = pd.concat(resampled_dfs).sample(frac=1).reset_index(drop=True)\n"
   ]
  },
  {
   "cell_type": "code",
   "execution_count": 90,
   "metadata": {},
   "outputs": [
    {
     "data": {
      "text/html": [
       "<div>\n",
       "<style scoped>\n",
       "    .dataframe tbody tr th:only-of-type {\n",
       "        vertical-align: middle;\n",
       "    }\n",
       "\n",
       "    .dataframe tbody tr th {\n",
       "        vertical-align: top;\n",
       "    }\n",
       "\n",
       "    .dataframe thead th {\n",
       "        text-align: right;\n",
       "    }\n",
       "</style>\n",
       "<table border=\"1\" class=\"dataframe\">\n",
       "  <thead>\n",
       "    <tr style=\"text-align: right;\">\n",
       "      <th></th>\n",
       "      <th>comment_text</th>\n",
       "      <th>sentiment</th>\n",
       "    </tr>\n",
       "  </thead>\n",
       "  <tbody>\n",
       "    <tr>\n",
       "      <th>0</th>\n",
       "      <td>понимать говорить поверьте ссылаться непосредс...</td>\n",
       "      <td>4</td>\n",
       "    </tr>\n",
       "    <tr>\n",
       "      <th>1</th>\n",
       "      <td>окружний суддя сша джойс хенс грін огляд призн...</td>\n",
       "      <td>5</td>\n",
       "    </tr>\n",
       "    <tr>\n",
       "      <th>2</th>\n",
       "      <td>разблокировка диапазон адресовить просить разб...</td>\n",
       "      <td>4</td>\n",
       "    </tr>\n",
       "    <tr>\n",
       "      <th>3</th>\n",
       "      <td>звірячий залишити коментар таблоїдний адмінста...</td>\n",
       "      <td>5</td>\n",
       "    </tr>\n",
       "    <tr>\n",
       "      <th>4</th>\n",
       "      <td>незайманий вибачити чоловічий увага викрити на...</td>\n",
       "      <td>5</td>\n",
       "    </tr>\n",
       "  </tbody>\n",
       "</table>\n",
       "</div>"
      ],
      "text/plain": [
       "                                        comment_text  sentiment\n",
       "0  понимать говорить поверьте ссылаться непосредс...          4\n",
       "1  окружний суддя сша джойс хенс грін огляд призн...          5\n",
       "2  разблокировка диапазон адресовить просить разб...          4\n",
       "3  звірячий залишити коментар таблоїдний адмінста...          5\n",
       "4  незайманий вибачити чоловічий увага викрити на...          5"
      ]
     },
     "execution_count": 90,
     "metadata": {},
     "output_type": "execute_result"
    }
   ],
   "source": [
    "resampled_df.head()"
   ]
  },
  {
   "cell_type": "code",
   "execution_count": 91,
   "metadata": {},
   "outputs": [],
   "source": [
    "non_toxic = resampled_df[resampled_df[\"sentiment\"] == 1]\n",
    "insult = resampled_df[resampled_df[\"sentiment\"] == 2]\n",
    "obscenity = resampled_df[resampled_df[\"sentiment\"]==3]\n",
    "threat = resampled_df[resampled_df[\"sentiment\"]==4]\n",
    "dangerous = resampled_df[resampled_df[\"sentiment\"]==5]\n",
    "\n",
    "\n",
    "n_non_toxic = len(non_toxic)\n",
    "n_insult = len(insult)\n",
    "n_obscenity = len(obscenity)\n",
    "n_threat = len(threat)\n",
    "n_dangerous = len(dangerous)"
   ]
  },
  {
   "cell_type": "code",
   "execution_count": 92,
   "metadata": {},
   "outputs": [
    {
     "data": {
      "text/plain": [
       "35755"
      ]
     },
     "execution_count": 92,
     "metadata": {},
     "output_type": "execute_result"
    }
   ],
   "source": [
    "n_non_toxic"
   ]
  },
  {
   "cell_type": "code",
   "execution_count": 93,
   "metadata": {},
   "outputs": [
    {
     "data": {
      "text/plain": [
       "35755"
      ]
     },
     "execution_count": 93,
     "metadata": {},
     "output_type": "execute_result"
    }
   ],
   "source": [
    "n_insult"
   ]
  },
  {
   "cell_type": "code",
   "execution_count": 94,
   "metadata": {},
   "outputs": [
    {
     "data": {
      "text/plain": [
       "35755"
      ]
     },
     "execution_count": 94,
     "metadata": {},
     "output_type": "execute_result"
    }
   ],
   "source": [
    "n_obscenity"
   ]
  },
  {
   "cell_type": "code",
   "execution_count": 95,
   "metadata": {},
   "outputs": [
    {
     "data": {
      "text/plain": [
       "35755"
      ]
     },
     "execution_count": 95,
     "metadata": {},
     "output_type": "execute_result"
    }
   ],
   "source": [
    "n_threat"
   ]
  },
  {
   "cell_type": "code",
   "execution_count": 96,
   "metadata": {},
   "outputs": [
    {
     "data": {
      "text/plain": [
       "35755"
      ]
     },
     "execution_count": 96,
     "metadata": {},
     "output_type": "execute_result"
    }
   ],
   "source": [
    "n_dangerous"
   ]
  },
  {
   "cell_type": "code",
   "execution_count": 97,
   "metadata": {},
   "outputs": [],
   "source": [
    "resampled_df.to_csv(\"resample.csv\")"
   ]
  },
  {
   "cell_type": "markdown",
   "metadata": {},
   "source": [
    "$$$$$$$$$$$$$$$$$$$$$$$$$$$$$$$$$$$$$$$$$$$$$$$$$$$$$$$$$$$$$$$$$$$$$$$$$$$$$$$$$$$$$$$$$$$$$$$$$$$$$$$$$$$$$$$$$$$$$$"
   ]
  },
  {
   "cell_type": "code",
   "execution_count": 114,
   "metadata": {},
   "outputs": [
    {
     "data": {
      "text/plain": [
       "(178775, 2)"
      ]
     },
     "execution_count": 114,
     "metadata": {},
     "output_type": "execute_result"
    }
   ],
   "source": [
    "resampled_df.shape"
   ]
  },
  {
   "cell_type": "markdown",
   "metadata": {},
   "source": [
    "## Mult CNN with resample mutliclass dataset"
   ]
  },
  {
   "cell_type": "code",
   "execution_count": 194,
   "metadata": {},
   "outputs": [],
   "source": [
    "import matplotlib.pyplot as plt\n",
    "from collections import Counter\n",
    "from tensorflow.keras.layers import LSTM, Dropout, Bidirectional, Dense, Embedding\n",
    "import keras\n",
    "from keras.models import Sequential\n",
    "from keras.layers import Dense, Embedding, Flatten, Conv1D, GlobalMaxPooling1D\n",
    "from keras.preprocessing.text import Tokenizer\n",
    "from tensorflow.keras.preprocessing.sequence import pad_sequences"
   ]
  },
  {
   "cell_type": "code",
   "execution_count": 195,
   "metadata": {},
   "outputs": [],
   "source": [
    "from sklearn.model_selection import train_test_split\n",
    "\n",
    "# Split the data into train and test sets\n",
    "X_train, X_test, y_train, y_test = train_test_split(resampled_df['comment_text'], resampled_df['sentiment'], test_size=0.2, random_state=42)\n",
    "\n",
    "# Split the train set into train and validation sets\n",
    "X_train, X_val, y_train, y_val = train_test_split(X_train, y_train, test_size=0.2, random_state=42)\n"
   ]
  },
  {
   "cell_type": "code",
   "execution_count": 196,
   "metadata": {},
   "outputs": [],
   "source": [
    "X_train = X_train.astype('str')"
   ]
  },
  {
   "cell_type": "code",
   "execution_count": 197,
   "metadata": {},
   "outputs": [],
   "source": [
    "X_test = X_test.astype('str')"
   ]
  },
  {
   "cell_type": "code",
   "execution_count": 198,
   "metadata": {},
   "outputs": [],
   "source": [
    "X_val = X_val.astype('str')"
   ]
  },
  {
   "cell_type": "code",
   "execution_count": 199,
   "metadata": {},
   "outputs": [],
   "source": [
    "MAX_FEATURES = 178_775"
   ]
  },
  {
   "cell_type": "code",
   "execution_count": 200,
   "metadata": {},
   "outputs": [
    {
     "name": "stdout",
     "output_type": "stream",
     "text": [
      "[('это', 39579), ('мочь', 33761), ('трахать', 21429), ('нигга', 19412), ('убить', 19362), ('который', 17140), ('сторінка', 13131), ('ваш', 13125), ('собираться', 12521), ('трахнути', 12496), ('страница', 11889), ('статья', 11812), ('стаття', 11510), ('сука', 10754), ('вікіпедія', 10375), ('член', 9203), ('свой', 8738), ('ублюдок', 8170), ('сделать', 7681), ('википедия', 7671), ('должный', 7465), ('дупа', 7447), ('стать', 7397), ('ласка', 7298), ('думати', 7156), ('зробити', 7017), ('правка', 6969), ('лоуда', 6864), ('человек', 6506), ('дерьмо', 6487), ('проасадханибал', 6315), ('являться', 6196), ('сказать', 6004), ('трахати', 5977), ('хотеть', 5960), ('просто', 5953), ('смоктати', 5698), ('черта', 5636), ('знати', 5576), ('видалення', 5459), ('знать', 5432), ('думать', 5423), ('иметь', 5333), ('говорить', 5276), ('користувач', 5132), ('взять', 5082), ('делать', 5029), ('робити', 4959), ('право', 4894), ('обговорення', 4891)]\n"
     ]
    }
   ],
   "source": [
    "token_counts = Counter()\n",
    "for sent in X_train:\n",
    "    token_counts.update(sent.split(' '))\n",
    "    \n",
    "dict_size = len(token_counts.keys())\n",
    "dict_size\n",
    "\n",
    "print(token_counts.most_common(50))"
   ]
  },
  {
   "cell_type": "code",
   "execution_count": 201,
   "metadata": {},
   "outputs": [
    {
     "name": "stdout",
     "output_type": "stream",
     "text": [
      "40315\n"
     ]
    },
    {
     "data": {
      "text/plain": [
       "65040"
      ]
     },
     "execution_count": 201,
     "metadata": {},
     "output_type": "execute_result"
    }
   ],
   "source": [
    "# keep tokens with a min occurrence\n",
    "min_occurane = 2\n",
    "tokens_occurance = [k for k,c in token_counts.items() if c >= min_occurane]\n",
    "print(len(tokens_occurance))\n",
    "min_occurance = len(token_counts.keys())\n",
    "min_occurance"
   ]
  },
  {
   "cell_type": "code",
   "execution_count": 202,
   "metadata": {},
   "outputs": [],
   "source": [
    "tokenizer = Tokenizer(num_words=dict_size)\n",
    "tokenizer.fit_on_texts(X_train)\n"
   ]
  },
  {
   "cell_type": "code",
   "execution_count": 203,
   "metadata": {},
   "outputs": [],
   "source": [
    "X_train_tokenized = tokenizer.texts_to_sequences(X_train)\n",
    "X_test_tokenized = tokenizer.texts_to_sequences(X_test)\n",
    "X_val_tokenized = tokenizer.texts_to_sequences(X_val)"
   ]
  },
  {
   "cell_type": "code",
   "execution_count": 204,
   "metadata": {},
   "outputs": [],
   "source": [
    "max_comment_length = 1500\n",
    "X_train_padded = pad_sequences(X_train_tokenized, maxlen=max_comment_length)\n",
    "X_test_padded = pad_sequences(X_test_tokenized, maxlen=max_comment_length)\n",
    "X_val_padded = pad_sequences(X_val_tokenized, maxlen=max_comment_length)"
   ]
  },
  {
   "cell_type": "code",
   "execution_count": 205,
   "metadata": {},
   "outputs": [
    {
     "name": "stdout",
     "output_type": "stream",
     "text": [
      "Model: \"sequential_4\"\n",
      "_________________________________________________________________\n",
      " Layer (type)                Output Shape              Param #   \n",
      "=================================================================\n",
      " embedding_4 (Embedding)     (None, 1500, 100)         6504000   \n",
      "                                                                 \n",
      " conv1d_4 (Conv1D)           (None, 1493, 32)          25632     \n",
      "                                                                 \n",
      " max_pooling1d_4 (MaxPooling  (None, 746, 32)          0         \n",
      " 1D)                                                             \n",
      "                                                                 \n",
      " flatten_4 (Flatten)         (None, 23872)             0         \n",
      "                                                                 \n",
      " dense_8 (Dense)             (None, 10)                238730    \n",
      "                                                                 \n",
      " dense_9 (Dense)             (None, 6)                 66        \n",
      "                                                                 \n",
      "=================================================================\n",
      "Total params: 6,768,428\n",
      "Trainable params: 6,768,428\n",
      "Non-trainable params: 0\n",
      "_________________________________________________________________\n",
      "None\n"
     ]
    }
   ],
   "source": [
    "import keras\n",
    "from keras.datasets import mnist\n",
    "from keras.models import Sequential\n",
    "from keras.layers import Dense, Dropout, Flatten\n",
    "from keras.layers import Conv2D, MaxPooling2D\n",
    "from keras.layers.convolutional import MaxPooling1D\n",
    "\n",
    "model_mult = Sequential()\n",
    "model_mult.add(Embedding(dict_size, 100, input_length=max_comment_length))\n",
    "model_mult.add(Conv1D(filters=32, kernel_size=8, activation='relu'))\n",
    "model_mult.add(MaxPooling1D(pool_size=2))\n",
    "model_mult.add(Flatten())\n",
    "model_mult.add(Dense(10, activation='relu'))\n",
    "model_mult.add(Dense(6, activation='softmax'))\n",
    "print(model_mult.summary())"
   ]
  },
  {
   "cell_type": "code",
   "execution_count": 206,
   "metadata": {},
   "outputs": [],
   "source": [
    "from keras.utils import to_categorical\n",
    "\n",
    "y_train = to_categorical(y_train, num_classes=6)\n",
    "y_test = to_categorical(y_test, num_classes=6)\n",
    "y_val = to_categorical(y_val, num_classes=6)\n"
   ]
  },
  {
   "cell_type": "code",
   "execution_count": 192,
   "metadata": {},
   "outputs": [
    {
     "data": {
      "text/plain": [
       "5"
      ]
     },
     "execution_count": 192,
     "metadata": {},
     "output_type": "execute_result"
    }
   ],
   "source": [
    "num_classes = len(np.unique(y_train))\n",
    "num_classes"
   ]
  },
  {
   "cell_type": "code",
   "execution_count": 207,
   "metadata": {},
   "outputs": [],
   "source": [
    "from tensorflow.keras.metrics import Precision, Recall, CategoricalAccuracy\n",
    "model_mult.compile(loss='categorical_crossentropy', optimizer='adam', metrics=['accuracy'])\n"
   ]
  },
  {
   "cell_type": "code",
   "execution_count": 208,
   "metadata": {},
   "outputs": [
    {
     "name": "stdout",
     "output_type": "stream",
     "text": [
      "Epoch 1/5\n",
      "3576/3576 [==============================] - 965s 269ms/step - loss: 0.4697 - accuracy: 0.8050 - val_loss: 0.1645 - val_accuracy: 0.9420\n",
      "Epoch 2/5\n",
      "3576/3576 [==============================] - 965s 270ms/step - loss: 0.0822 - accuracy: 0.9737 - val_loss: 0.1156 - val_accuracy: 0.9624\n",
      "Epoch 3/5\n",
      "3576/3576 [==============================] - 990s 277ms/step - loss: 0.0424 - accuracy: 0.9859 - val_loss: 0.1567 - val_accuracy: 0.9693\n",
      "Epoch 4/5\n",
      "3576/3576 [==============================] - 987s 276ms/step - loss: 0.0333 - accuracy: 0.9883 - val_loss: 0.1904 - val_accuracy: 0.9632\n",
      "Epoch 5/5\n",
      "3576/3576 [==============================] - 1000s 280ms/step - loss: 0.0281 - accuracy: 0.9895 - val_loss: 0.1423 - val_accuracy: 0.9716\n"
     ]
    }
   ],
   "source": [
    "history = model_mult.fit(X_train_padded, y_train, validation_data=(X_val_padded, y_val), epochs=5, batch_size=32)\n"
   ]
  },
  {
   "cell_type": "code",
   "execution_count": 209,
   "metadata": {},
   "outputs": [
    {
     "data": {
      "text/plain": [
       "<Figure size 800x500 with 0 Axes>"
      ]
     },
     "metadata": {},
     "output_type": "display_data"
    },
    {
     "data": {
      "image/png": "[encoded data removed]",
      "text/plain": [
       "<Figure size 640x480 with 1 Axes>"
      ]
     },
     "metadata": {},
     "output_type": "display_data"
    }
   ],
   "source": [
    "from matplotlib import pyplot as plt\n",
    "\n",
    "plt.figure(figsize=(8,5))\n",
    "pd.DataFrame(history.history).plot()\n",
    "plt.show()"
   ]
  },
  {
   "cell_type": "code",
   "execution_count": 210,
   "metadata": {},
   "outputs": [],
   "source": [
    "loss, acc = model_mult.evaluate(X_test_padded, y_test, verbose = 0)"
   ]
  },
  {
   "cell_type": "code",
   "execution_count": 211,
   "metadata": {},
   "outputs": [
    {
     "name": "stdout",
     "output_type": "stream",
     "text": [
      "Test accuracy 97.211581\n"
     ]
    }
   ],
   "source": [
    "print('Test accuracy %f' % (acc * 100))"
   ]
  },
  {
   "cell_type": "code",
   "execution_count": 213,
   "metadata": {},
   "outputs": [
    {
     "name": "stdout",
     "output_type": "stream",
     "text": [
      "1118/1118 [==============================] - 35s 30ms/step\n",
      "              precision    recall  f1-score   support\n",
      "\n",
      "           1       0.95      0.92      0.93      7165\n",
      "           2       0.99      0.99      0.99      7255\n",
      "           3       0.99      0.98      0.98      7073\n",
      "           4       0.99      1.00      1.00      7074\n",
      "           5       0.93      0.98      0.96      7188\n",
      "\n",
      "    accuracy                           0.97     35755\n",
      "   macro avg       0.97      0.97      0.97     35755\n",
      "weighted avg       0.97      0.97      0.97     35755\n",
      "\n"
     ]
    }
   ],
   "source": [
    "from sklearn.metrics import classification_report\n",
    "\n",
    "# Get the predictions for your test data\n",
    "y_pred = model_mult.predict(X_test_padded)\n",
    "\n",
    "# Convert the predicted probabilities into predicted classes\n",
    "y_pred_classes = np.argmax(y_pred, axis=1)\n",
    "\n",
    "# Get the true classes\n",
    "y_true = np.argmax(y_test, axis=1)\n",
    "\n",
    "# Generate the classification report\n",
    "report = classification_report(y_true, y_pred_classes)\n",
    "\n",
    "print(report)\n"
   ]
  },
  {
   "cell_type": "code",
   "execution_count": 214,
   "metadata": {},
   "outputs": [
    {
     "name": "stdout",
     "output_type": "stream",
     "text": [
      "1.959963984540054\n"
     ]
    }
   ],
   "source": [
    "from tensorflow.keras.models import Sequential\n",
    "from tensorflow.keras.layers import LSTM, Dropout, Bidirectional, Dense, Embedding\n",
    "import scipy.stats\n",
    "from sklearn.metrics import accuracy_score\n",
    "\n",
    "confidence = 0.95  # Change to your desired confidence level\n",
    "z_value = scipy.stats.norm.ppf((1 + confidence) / 2.0)\n",
    "print(z_value)\n",
    "\n",
    "callback = tf.keras.callbacks.EarlyStopping(monitor='loss', patience=3)"
   ]
  },
  {
   "cell_type": "code",
   "execution_count": 215,
   "metadata": {},
   "outputs": [
    {
     "name": "stdout",
     "output_type": "stream",
     "text": [
      "Lower bound:  0.9713526246667982 Upper bound:  0.9728790047048449\n",
      "\n",
      "So, the above values represent the 95% confidence interval around the test set accuracy\n"
     ]
    }
   ],
   "source": [
    "from sklearn.metrics import accuracy_score\n",
    "ci_length = z_value * np.sqrt((acc * (1 - acc)) / y.shape[0])\n",
    "ci_lower = acc - ci_length\n",
    "ci_upper = acc + ci_length\n",
    "print(\"Lower bound: \", ci_lower, \"Upper bound: \", ci_upper)\n",
    "print()\n",
    "print(\"So, the above values represent the 95% confidence interval around the test set accuracy\")"
   ]
  },
  {
   "cell_type": "markdown",
   "metadata": {},
   "source": [
    "Recall (also known as sensitivity) measures the percentage of true positives that were correctly identified by the model. A high recall indicates that the model is good at identifying all positive samples for a given class.\n",
    "\n",
    "Precision measures the percentage of true positives out of all samples that were predicted as positive by the model. A high precision indicates that the model is good at not misclassifying negative samples as positive for a given class.\n",
    "\n",
    "The F1-score is the harmonic mean of precision and recall, and it balances the trade-off between precision and recall. It is a good overall measure of a model's performance.\n",
    "\n",
    "In your case, the model appears to have good performance for all classes, with high precision, recall, and F1-score values. The macro-average and weighted-average F1-score are both 0.97, indicating that the model has good overall performance."
   ]
  },
  {
   "cell_type": "markdown",
   "metadata": {},
   "source": [
    "## MULT BILSTM"
   ]
  },
  {
   "cell_type": "code",
   "execution_count": 216,
   "metadata": {},
   "outputs": [],
   "source": [
    "model = Sequential()\n",
    "#Create an embedding layer\n",
    "model.add(Embedding(MAX_FEATURES+1, 32))\n",
    "#Create a LSTM layer\n",
    "model.add(Bidirectional(LSTM(32, activation = 'tanh')))\n",
    "#Features extractors fully-connected layers\n",
    "model.add(Dense(128, activation ='relu'))\n",
    "model.add(Dense(256, activation = 'relu'))\n",
    "model.add(Dense(128, activation = 'relu'))\n",
    "#Final layer\n",
    "model.add(Dense(6, activation = 'softmax'))"
   ]
  },
  {
   "cell_type": "code",
   "execution_count": 217,
   "metadata": {
    "scrolled": true
   },
   "outputs": [
    {
     "name": "stdout",
     "output_type": "stream",
     "text": [
      "Model: \"sequential_5\"\n",
      "_________________________________________________________________\n",
      " Layer (type)                Output Shape              Param #   \n",
      "=================================================================\n",
      " embedding_5 (Embedding)     (None, None, 32)          5720832   \n",
      "                                                                 \n",
      " bidirectional (Bidirectiona  (None, 64)               16640     \n",
      " l)                                                              \n",
      "                                                                 \n",
      " dense_10 (Dense)            (None, 128)               8320      \n",
      "                                                                 \n",
      " dense_11 (Dense)            (None, 256)               33024     \n",
      "                                                                 \n",
      " dense_12 (Dense)            (None, 128)               32896     \n",
      "                                                                 \n",
      " dense_13 (Dense)            (None, 6)                 774       \n",
      "                                                                 \n",
      "=================================================================\n",
      "Total params: 5,812,486\n",
      "Trainable params: 5,812,486\n",
      "Non-trainable params: 0\n",
      "_________________________________________________________________\n"
     ]
    }
   ],
   "source": [
    "model.summary()"
   ]
  },
  {
   "cell_type": "code",
   "execution_count": 219,
   "metadata": {},
   "outputs": [],
   "source": [
    "from tensorflow.keras.metrics import Precision, Recall, CategoricalAccuracy\n",
    "model.compile(loss='categorical_crossentropy', optimizer='adam', metrics=['accuracy'])"
   ]
  },
  {
   "cell_type": "code",
   "execution_count": 220,
   "metadata": {},
   "outputs": [
    {
     "name": "stdout",
     "output_type": "stream",
     "text": [
      "Epoch 1/5\n",
      "3576/3576 [==============================] - 4148s 1s/step - loss: 0.3201 - accuracy: 0.8690 - val_loss: 0.1048 - val_accuracy: 0.9612\n",
      "Epoch 2/5\n",
      "3576/3576 [==============================] - 3921s 1s/step - loss: 0.0553 - accuracy: 0.9822 - val_loss: 0.0908 - val_accuracy: 0.9716\n",
      "Epoch 3/5\n",
      "3576/3576 [==============================] - 3617s 1s/step - loss: 0.0218 - accuracy: 0.9935 - val_loss: 0.0642 - val_accuracy: 0.9844\n",
      "Epoch 4/5\n",
      "3576/3576 [==============================] - 2809s 786ms/step - loss: 0.0134 - accuracy: 0.9960 - val_loss: 0.0720 - val_accuracy: 0.9850\n",
      "Epoch 5/5\n",
      "3576/3576 [==============================] - 2886s 807ms/step - loss: 0.0084 - accuracy: 0.9976 - val_loss: 0.0740 - val_accuracy: 0.9802\n"
     ]
    }
   ],
   "source": [
    "history = model.fit(X_train_padded, y_train, validation_data=(X_val_padded, y_val), epochs=5, batch_size=32)"
   ]
  },
  {
   "cell_type": "code",
   "execution_count": 221,
   "metadata": {},
   "outputs": [
    {
     "data": {
      "text/plain": [
       "<Figure size 800x500 with 0 Axes>"
      ]
     },
     "metadata": {},
     "output_type": "display_data"
    },
    {
     "data": {
      "image/png": "[encoded data removed]",
      "text/plain": [
       "<Figure size 640x480 with 1 Axes>"
      ]
     },
     "metadata": {},
     "output_type": "display_data"
    }
   ],
   "source": [
    "from matplotlib import pyplot as plt\n",
    "\n",
    "plt.figure(figsize=(8,5))\n",
    "pd.DataFrame(history.history).plot()\n",
    "plt.show()"
   ]
  },
  {
   "cell_type": "code",
   "execution_count": 222,
   "metadata": {},
   "outputs": [],
   "source": [
    "loss, acc = model.evaluate(X_test_padded, y_test, verbose = 0)"
   ]
  },
  {
   "cell_type": "code",
   "execution_count": 223,
   "metadata": {},
   "outputs": [
    {
     "name": "stdout",
     "output_type": "stream",
     "text": [
      "Test accuracy 98.128933\n"
     ]
    }
   ],
   "source": [
    "print('Test accuracy %f' % (acc * 100))"
   ]
  },
  {
   "cell_type": "code",
   "execution_count": 224,
   "metadata": {},
   "outputs": [
    {
     "name": "stdout",
     "output_type": "stream",
     "text": [
      "1118/1118 [==============================] - 171s 153ms/step\n",
      "              precision    recall  f1-score   support\n",
      "\n",
      "           1       0.99      0.92      0.95      7165\n",
      "           2       0.99      1.00      1.00      7255\n",
      "           3       1.00      1.00      1.00      7073\n",
      "           4       1.00      1.00      1.00      7074\n",
      "           5       0.93      0.99      0.96      7188\n",
      "\n",
      "    accuracy                           0.98     35755\n",
      "   macro avg       0.98      0.98      0.98     35755\n",
      "weighted avg       0.98      0.98      0.98     35755\n",
      "\n"
     ]
    }
   ],
   "source": [
    "from sklearn.metrics import classification_report\n",
    "\n",
    "# Get the predictions for your test data\n",
    "y_pred = model.predict(X_test_padded)\n",
    "\n",
    "# Convert the predicted probabilities into predicted classes\n",
    "y_pred_classes = np.argmax(y_pred, axis=1)\n",
    "\n",
    "# Get the true classes\n",
    "y_true = np.argmax(y_test, axis=1)\n",
    "\n",
    "# Generate the classification report\n",
    "report = classification_report(y_true, y_pred_classes)\n",
    "\n",
    "print(report)"
   ]
  },
  {
   "cell_type": "markdown",
   "metadata": {},
   "source": [
    "## Mult CNN cross-validation"
   ]
  },
  {
   "cell_type": "code",
   "execution_count": 225,
   "metadata": {
    "scrolled": true
   },
   "outputs": [
    {
     "name": "stdout",
     "output_type": "stream",
     "text": [
      "Model: \"sequential_6\"\n",
      "_________________________________________________________________\n",
      " Layer (type)                Output Shape              Param #   \n",
      "=================================================================\n",
      " embedding_6 (Embedding)     (None, 1500, 100)         6504000   \n",
      "                                                                 \n",
      " conv1d_5 (Conv1D)           (None, 1493, 32)          25632     \n",
      "                                                                 \n",
      " max_pooling1d_5 (MaxPooling  (None, 746, 32)          0         \n",
      " 1D)                                                             \n",
      "                                                                 \n",
      " flatten_5 (Flatten)         (None, 23872)             0         \n",
      "                                                                 \n",
      " dense_14 (Dense)            (None, 10)                238730    \n",
      "                                                                 \n",
      " dense_15 (Dense)            (None, 6)                 66        \n",
      "                                                                 \n",
      "=================================================================\n",
      "Total params: 6,768,428\n",
      "Trainable params: 6,768,428\n",
      "Non-trainable params: 0\n",
      "_________________________________________________________________\n",
      "None\n",
      "Fold loss: 0.09791599959135056, accuracy: 0.9788579940795898\n",
      "Fold loss: 0.02435440756380558, accuracy: 0.9895119071006775\n",
      "Fold loss: 0.02234460599720478, accuracy: 0.9891123175621033\n",
      "Fold loss: 0.022363746538758278, accuracy: 0.9898781180381775\n",
      "Fold loss: 0.01869039237499237, accuracy: 0.9920756220817566\n",
      "Mean accuracy: 0.987887191772461, std: 0.004629768459145312\n"
     ]
    }
   ],
   "source": [
    "from keras.models import Sequential\n",
    "from keras.layers import Embedding, Conv1D, MaxPooling1D, Flatten, Dense\n",
    "from sklearn.model_selection import KFold\n",
    "import numpy as np\n",
    "\n",
    "# assume X_train, y_train, X_test, y_test are already defined\n",
    "\n",
    "\n",
    "model_mult = Sequential()\n",
    "model_mult.add(Embedding(dict_size, 100, input_length=max_comment_length))\n",
    "model_mult.add(Conv1D(filters=32, kernel_size=8, activation='relu'))\n",
    "model_mult.add(MaxPooling1D(pool_size=2))\n",
    "model_mult.add(Flatten())\n",
    "model_mult.add(Dense(10, activation='relu'))\n",
    "model_mult.add(Dense(6, activation='softmax'))\n",
    "print(model_mult.summary())\n",
    "\n",
    "# define k-fold cross-validation\n",
    "kfold = KFold(n_splits=5, shuffle=True, random_state=42)\n",
    "\n",
    "# prepare the data\n",
    "X = np.concatenate((X_train_padded, X_test_padded), axis=0)\n",
    "y = np.concatenate((y_train, y_test), axis=0)\n",
    "\n",
    "# evaluate the model using k-fold cross-validation\n",
    "fold_scores = []\n",
    "for train_idx, test_idx in kfold.split(X, y):\n",
    "    # get the training and test data for this fold\n",
    "    X_train_fold, y_train_fold = X[train_idx], y[train_idx]\n",
    "    X_test_fold, y_test_fold = X[test_idx], y[test_idx]\n",
    "    \n",
    "    # compile the model\n",
    "    model_mult.compile(loss='categorical_crossentropy', optimizer='adam', metrics=['accuracy'])\n",
    "    \n",
    "    # train the model\n",
    "    model_mult.fit(X_train_fold, y_train_fold, epochs=10, batch_size=64, verbose=0)\n",
    "    \n",
    "    # evaluate the model on the test data for this fold\n",
    "    scores = model_mult.evaluate(X_test_fold, y_test_fold, verbose=0)\n",
    "    print(f'Fold loss: {scores[0]}, accuracy: {scores[1]}')\n",
    "    fold_scores.append(scores[1])\n",
    "\n",
    "# report the mean and standard deviation of the accuracy scores across all folds\n",
    "print(f'Mean accuracy: {np.mean(fold_scores)}, std: {np.std(fold_scores)}')"
   ]
  },
  {
   "cell_type": "markdown",
   "metadata": {},
   "source": [
    "## Mult LSTM cross-validation\n"
   ]
  },
  {
   "cell_type": "code",
   "execution_count": 226,
   "metadata": {},
   "outputs": [
    {
     "name": "stdout",
     "output_type": "stream",
     "text": [
      "Fold loss: 0.019881151616573334, accuracy: 0.9907441139221191\n",
      "Fold loss: 0.020820867270231247, accuracy: 0.9915761947631836\n",
      "Fold loss: 0.020676055923104286, accuracy: 0.9904441833496094\n",
      "Fold loss: 0.020616205409169197, accuracy: 0.9915096163749695\n",
      "Fold loss: 0.018584923818707466, accuracy: 0.992108941078186\n",
      "Mean accuracy: 0.9912766098976136, std: 0.0006022132888041443\n"
     ]
    }
   ],
   "source": [
    "from keras.models import Sequential\n",
    "from keras.layers import Embedding, Conv1D, MaxPooling1D, Flatten, Dense\n",
    "from sklearn.model_selection import KFold\n",
    "import numpy as np\n",
    "\n",
    "# assume X_train, y_train, X_test, y_test are already defined\n",
    "\n",
    "\n",
    "model = Sequential()\n",
    "#Create an embedding layer\n",
    "model.add(Embedding(MAX_FEATURES+1, 32))\n",
    "#Create a LSTM layer\n",
    "model.add(Bidirectional(LSTM(32, activation = 'tanh')))\n",
    "#Features extractors fully-connected layers\n",
    "model.add(Dense(128, activation ='relu'))\n",
    "model.add(Dense(256, activation = 'relu'))\n",
    "model.add(Dense(128, activation = 'relu'))\n",
    "#Final layer\n",
    "model.add(Dense(6, activation = 'softmax'))\n",
    "\n",
    "# define k-fold cross-validation\n",
    "kfold = KFold(n_splits=5, shuffle=True, random_state=42)\n",
    "\n",
    "# prepare the data\n",
    "X = np.concatenate((X_train_padded, X_test_padded), axis=0)\n",
    "y = np.concatenate((y_train, y_test), axis=0)\n",
    "\n",
    "# evaluate the model using k-fold cross-validation\n",
    "fold_scores = []\n",
    "for train_idx, test_idx in kfold.split(X, y):\n",
    "    # get the training and test data for this fold\n",
    "    X_train_fold, y_train_fold = X[train_idx], y[train_idx]\n",
    "    X_test_fold, y_test_fold = X[test_idx], y[test_idx]\n",
    "    \n",
    "    # compile the model\n",
    "    model_mult.compile(loss='categorical_crossentropy', optimizer='adam', metrics=['accuracy'])\n",
    "    \n",
    "    # train the model\n",
    "    model_mult.fit(X_train_fold, y_train_fold, epochs=10, batch_size=64, verbose=0)\n",
    "    \n",
    "    # evaluate the model on the test data for this fold\n",
    "    scores = model_mult.evaluate(X_test_fold, y_test_fold, verbose=0)\n",
    "    print(f'Fold loss: {scores[0]}, accuracy: {scores[1]}')\n",
    "    fold_scores.append(scores[1])\n",
    "\n",
    "# report the mean and standard deviation of the accuracy scores across all folds\n",
    "print(f'Mean accuracy: {np.mean(fold_scores)}, std: {np.std(fold_scores)}')"
   ]
  },
  {
   "cell_type": "markdown",
   "metadata": {},
   "source": [
    "## LSTM CROSS VALIDATION"
   ]
  },
  {
   "cell_type": "code",
   "execution_count": 1,
   "metadata": {},
   "outputs": [
    {
     "data": {
      "image/png": "[encoded data removed]",
      "text/plain": [
       "<Figure size 640x480 with 1 Axes>"
      ]
     },
     "metadata": {},
     "output_type": "display_data"
    }
   ],
   "source": [
    "import matplotlib.pyplot as plt\n",
    "import numpy as np\n",
    "\n",
    "# Define the data\n",
    "fold = [1, 2, 3, 4, 5, 'Mean', 'Std']\n",
    "loss = [0.0199, 0.0208, 0.0207, 0.0206, 0.0186, None, None]\n",
    "accuracy = [0.9907, 0.9916, 0.9904, 0.9915, 0.9921, 0.9913, 0.0006]\n",
    "\n",
    "# Create the figure and axis\n",
    "fig, ax = plt.subplots()\n",
    "\n",
    "# Plot the data\n",
    "ax.plot(fold, loss, label='Loss')\n",
    "ax.plot(fold, accuracy, label='Accuracy')\n",
    "\n",
    "# Set the axis labels and title\n",
    "ax.set_xlabel('Fold')\n",
    "ax.set_ylabel('Value')\n",
    "ax.set_title('Fold Performance')\n",
    "\n",
    "# Add a legend and grid\n",
    "ax.legend()\n",
    "ax.grid(True)\n",
    "\n",
    "# Show the plot\n",
    "plt.show()"
   ]
  },
  {
   "cell_type": "markdown",
   "metadata": {},
   "source": [
    "## CNN CROSS VALIDATION"
   ]
  },
  {
   "cell_type": "code",
   "execution_count": 4,
   "metadata": {},
   "outputs": [
    {
     "data": {
      "image/png": "[encoded data removed]",
      "text/plain": [
       "<Figure size 640x480 with 1 Axes>"
      ]
     },
     "metadata": {},
     "output_type": "display_data"
    }
   ],
   "source": [
    "import matplotlib.pyplot as plt\n",
    "import numpy as np\n",
    "\n",
    "# Define the data\n",
    "fold = [1, 2, 3, 4, 5, 'Mean', 'Std']\n",
    "loss = [0.097, 0.024, 0.022, 0.022, 0.0186, None, None]\n",
    "accuracy = [0.9788, 0.9895, 0.9891, 0.9898, 0.9920, 0.98788, 0.004]\n",
    "\n",
    "# Create the figure and axis\n",
    "fig, ax = plt.subplots()\n",
    "\n",
    "# Plot the data\n",
    "ax.plot(fold, loss, label='Loss')\n",
    "ax.plot(fold, accuracy, label='Accuracy')\n",
    "\n",
    "# Set the axis labels and title\n",
    "ax.set_xlabel('Fold')\n",
    "ax.set_ylabel('Value')\n",
    "ax.set_title('Fold Performance')\n",
    "\n",
    "# Add a legend and grid\n",
    "ax.legend()\n",
    "ax.grid(True)\n",
    "\n",
    "# Show the plot\n",
    "plt.show()"
   ]
  },
  {
   "cell_type": "code",
   "execution_count": 2,
   "metadata": {},
   "outputs": [
    {
     "data": {
      "image/png": "[encoded data removed]",
      "text/plain": [
       "<Figure size 800x600 with 1 Axes>"
      ]
     },
     "metadata": {},
     "output_type": "display_data"
    }
   ],
   "source": [
    "import matplotlib.pyplot as plt\n",
    "\n",
    "# Data\n",
    "lstm_data = {'Test accuracy': 98.128933, 'Average Precision': 0.982, 'Average Recall': 0.981, \n",
    "             'Average F1-score': 0.982, 'Lower bound': 0.9812, 'Upper bound': 0.9944, 'Loss': 0.0084,\n",
    "             'Epochs': 5, 'Batch': 16}\n",
    "\n",
    "# Plot\n",
    "fig, ax = plt.subplots(figsize=(8,6))\n",
    "ax.bar(lstm_data.keys(), lstm_data.values(), color='blue')\n",
    "\n",
    "# Title and labels\n",
    "ax.set_title('LSTM Performance Metrics', fontsize=16, fontweight='bold')\n",
    "ax.set_xlabel('Metric', fontsize=12)\n",
    "ax.set_ylabel('Value', fontsize=12)\n",
    "\n",
    "# Rotate x-axis labels for better readability\n",
    "plt.xticks(rotation=45, ha='right')\n",
    "\n",
    "# Show plot\n",
    "plt.show()"
   ]
  },
  {
   "cell_type": "code",
   "execution_count": 3,
   "metadata": {},
   "outputs": [
    {
     "data": {
      "image/png": "[encoded data removed]",
      "text/plain": [
       "<Figure size 800x600 with 1 Axes>"
      ]
     },
     "metadata": {},
     "output_type": "display_data"
    }
   ],
   "source": [
    "import matplotlib.pyplot as plt\n",
    "\n",
    "# Data\n",
    "lstm_data = {'Test accuracy': 0.98128933, 'Average Precision': 0.982, 'Average Recall': 0.981, \n",
    "             'Average F1-score': 0.982, 'Lower bound': 0.9812, 'Upper bound': 0.9944, 'Loss': 0.0084,\n",
    "             'Epochs': 5, 'Batch': 16}\n",
    "\n",
    "# Plot\n",
    "fig, ax = plt.subplots(figsize=(8,6))\n",
    "ax.bar(lstm_data.keys(), lstm_data.values(), color='blue')\n",
    "\n",
    "# Title and labels\n",
    "ax.set_title('LSTM Performance Metrics', fontsize=16, fontweight='bold')\n",
    "ax.set_xlabel('Metric', fontsize=12)\n",
    "ax.set_ylabel('Value', fontsize=12)\n",
    "\n",
    "# Format the confidence interval value to show two decimal places\n",
    "confidence_interval = 'Lower bound: {:.2f}\\nUpper bound: {:.2f}'.format(lstm_data['Lower bound'], lstm_data['Upper bound'])\n",
    "ax.text(4.5, 0.992, confidence_interval, fontsize=12, ha='center', va='center', bbox=dict(facecolor='white', edgecolor='none', alpha=0.8))\n",
    "\n",
    "# Rotate x-axis labels for better readability\n",
    "plt.xticks(rotation=45, ha='right')\n",
    "\n",
    "# Show plot\n",
    "plt.show()"
   ]
  },
  {
   "cell_type": "code",
   "execution_count": null,
   "metadata": {},
   "outputs": [],
   "source": []
  }
 ],
 "metadata": {
  "colab": {
   "authorship_tag": "ABX9TyP8rIPPojnE2G9m1XcuvZSB",
   "provenance": [
    {
     "file_id": "1h1345QIlLzBnaTBYFMZOj13ffIj3H9EQ",
     "timestamp": 1678288887601
    }
   ]
  },
  "kernelspec": {
   "display_name": "Python 3 (ipykernel)",
   "language": "python",
   "name": "python3"
  },
  "language_info": {
   "codemirror_mode": {
    "name": "ipython",
    "version": 3
   },
   "file_extension": ".py",
   "mimetype": "text/x-python",
   "name": "python",
   "nbconvert_exporter": "python",
   "pygments_lexer": "ipython3",
   "version": "3.9.13"
  },
  "widgets": {
   "application/vnd.jupyter.widget-state+json": {
    "00e8df9b647348fa833af11940a10192": {
     "model_module": "@jupyter-widgets/controls",
     "model_module_version": "1.5.0",
     "model_name": "DescriptionStyleModel",
     "state": {
      "_model_module": "@jupyter-widgets/controls",
      "_model_module_version": "1.5.0",
      "_model_name": "DescriptionStyleModel",
      "_view_count": null,
      "_view_module": "@jupyter-widgets/base",
      "_view_module_version": "1.2.0",
      "_view_name": "StyleView",
      "description_width": ""
     }
    },
    "00f74db654334764846e3f6ac7cb1686": {
     "model_module": "@jupyter-widgets/controls",
     "model_module_version": "1.5.0",
     "model_name": "HBoxModel",
     "state": {
      "_dom_classes": [],
      "_model_module": "@jupyter-widgets/controls",
      "_model_module_version": "1.5.0",
      "_model_name": "HBoxModel",
      "_view_count": null,
      "_view_module": "@jupyter-widgets/controls",
      "_view_module_version": "1.5.0",
      "_view_name": "HBoxView",
      "box_style": "",
      "children": [
       "IPY_MODEL_59cc4277b06a491d86e5a42833da6328",
       "IPY_MODEL_985ed171263a4f4e81818cd3027a8d87",
       "IPY_MODEL_337e5f0b8e5a4f58955e9be9af4710cb"
      ],
      "layout": "IPY_MODEL_726cc99da83b43d3b086f773df78d2dd"
     }
    },
    "049dd97d8cea4be4ac2ab7e174d752ae": {
     "model_module": "@jupyter-widgets/controls",
     "model_module_version": "1.5.0",
     "model_name": "HBoxModel",
     "state": {
      "_dom_classes": [],
      "_model_module": "@jupyter-widgets/controls",
      "_model_module_version": "1.5.0",
      "_model_name": "HBoxModel",
      "_view_count": null,
      "_view_module": "@jupyter-widgets/controls",
      "_view_module_version": "1.5.0",
      "_view_name": "HBoxView",
      "box_style": "",
      "children": [
       "IPY_MODEL_0ec2b499ddec4675af08db59f0ef45f2",
       "IPY_MODEL_0b8cb4fd820b47b791e12210083ab9fb",
       "IPY_MODEL_cebe2bc1799c4170acd7fdcb91348f46"
      ],
      "layout": "IPY_MODEL_b2116aa5a19a4a7e98e0bd26e842835d"
     }
    },
    "07e5df28a4dc4efda32522f3466729d8": {
     "model_module": "@jupyter-widgets/controls",
     "model_module_version": "1.5.0",
     "model_name": "ProgressStyleModel",
     "state": {
      "_model_module": "@jupyter-widgets/controls",
      "_model_module_version": "1.5.0",
      "_model_name": "ProgressStyleModel",
      "_view_count": null,
      "_view_module": "@jupyter-widgets/base",
      "_view_module_version": "1.2.0",
      "_view_name": "StyleView",
      "bar_color": null,
      "description_width": ""
     }
    },
    "081dbf7357014eba80d830d27312bfbc": {
     "model_module": "@jupyter-widgets/base",
     "model_module_version": "1.2.0",
     "model_name": "LayoutModel",
     "state": {
      "_model_module": "@jupyter-widgets/base",
      "_model_module_version": "1.2.0",
      "_model_name": "LayoutModel",
      "_view_count": null,
      "_view_module": "@jupyter-widgets/base",
      "_view_module_version": "1.2.0",
      "_view_name": "LayoutView",
      "align_content": null,
      "align_items": null,
      "align_self": null,
      "border": null,
      "bottom": null,
      "display": null,
      "flex": null,
      "flex_flow": null,
      "grid_area": null,
      "grid_auto_columns": null,
      "grid_auto_flow": null,
      "grid_auto_rows": null,
      "grid_column": null,
      "grid_gap": null,
      "grid_row": null,
      "grid_template_areas": null,
      "grid_template_columns": null,
      "grid_template_rows": null,
      "height": null,
      "justify_content": null,
      "justify_items": null,
      "left": null,
      "margin": null,
      "max_height": null,
      "max_width": null,
      "min_height": null,
      "min_width": null,
      "object_fit": null,
      "object_position": null,
      "order": null,
      "overflow": null,
      "overflow_x": null,
      "overflow_y": null,
      "padding": null,
      "right": null,
      "top": null,
      "visibility": null,
      "width": null
     }
    },
    "0b8cb4fd820b47b791e12210083ab9fb": {
     "model_module": "@jupyter-widgets/controls",
     "model_module_version": "1.5.0",
     "model_name": "FloatProgressModel",
     "state": {
      "_dom_classes": [],
      "_model_module": "@jupyter-widgets/controls",
      "_model_module_version": "1.5.0",
      "_model_name": "FloatProgressModel",
      "_view_count": null,
      "_view_module": "@jupyter-widgets/controls",
      "_view_module_version": "1.5.0",
      "_view_name": "ProgressView",
      "bar_style": "success",
      "description": "",
      "description_tooltip": null,
      "layout": "IPY_MODEL_5673e58c48ef435c877261e3cfd5c110",
      "max": 642,
      "min": 0,
      "orientation": "horizontal",
      "style": "IPY_MODEL_427c64ee6474498eb821fc73493599d8",
      "value": 642
     }
    },
    "0e5b906257804779ad9ac167e0b49581": {
     "model_module": "@jupyter-widgets/controls",
     "model_module_version": "1.5.0",
     "model_name": "HTMLModel",
     "state": {
      "_dom_classes": [],
      "_model_module": "@jupyter-widgets/controls",
      "_model_module_version": "1.5.0",
      "_model_name": "HTMLModel",
      "_view_count": null,
      "_view_module": "@jupyter-widgets/controls",
      "_view_module_version": "1.5.0",
      "_view_name": "HTMLView",
      "description": "",
      "description_tooltip": null,
      "layout": "IPY_MODEL_67fb32a871a14cc88f8a91dbc62359d9",
      "placeholder": "​",
      "style": "IPY_MODEL_00e8df9b647348fa833af11940a10192",
      "value": "Downloading: 100%"
     }
    },
    "0ec2b499ddec4675af08db59f0ef45f2": {
     "model_module": "@jupyter-widgets/controls",
     "model_module_version": "1.5.0",
     "model_name": "HTMLModel",
     "state": {
      "_dom_classes": [],
      "_model_module": "@jupyter-widgets/controls",
      "_model_module_version": "1.5.0",
      "_model_name": "HTMLModel",
      "_view_count": null,
      "_view_module": "@jupyter-widgets/controls",
      "_view_module_version": "1.5.0",
      "_view_name": "HTMLView",
      "description": "",
      "description_tooltip": null,
      "layout": "IPY_MODEL_55abcbc6dc994376aab360f433a320d5",
      "placeholder": "​",
      "style": "IPY_MODEL_64ad2762a27944ccae6cd808f5080c0f",
      "value": "Downloading: 100%"
     }
    },
    "1721088526174dadb4439d2bc1892cc8": {
     "model_module": "@jupyter-widgets/controls",
     "model_module_version": "1.5.0",
     "model_name": "FloatProgressModel",
     "state": {
      "_dom_classes": [],
      "_model_module": "@jupyter-widgets/controls",
      "_model_module_version": "1.5.0",
      "_model_name": "FloatProgressModel",
      "_view_count": null,
      "_view_module": "@jupyter-widgets/controls",
      "_view_module_version": "1.5.0",
      "_view_name": "ProgressView",
      "bar_style": "success",
      "description": "",
      "description_tooltip": null,
      "layout": "IPY_MODEL_ffa75a5ce0c54fc3a83f688869fc0f99",
      "max": 112,
      "min": 0,
      "orientation": "horizontal",
      "style": "IPY_MODEL_a34fd366c6f54ba7b36a7f0910c73a23",
      "value": 112
     }
    },
    "1f5412473c6b427992a5e0aeff5ec77f": {
     "model_module": "@jupyter-widgets/controls",
     "model_module_version": "1.5.0",
     "model_name": "HBoxModel",
     "state": {
      "_dom_classes": [],
      "_model_module": "@jupyter-widgets/controls",
      "_model_module_version": "1.5.0",
      "_model_name": "HBoxModel",
      "_view_count": null,
      "_view_module": "@jupyter-widgets/controls",
      "_view_module_version": "1.5.0",
      "_view_name": "HBoxView",
      "box_style": "",
      "children": [
       "IPY_MODEL_0e5b906257804779ad9ac167e0b49581",
       "IPY_MODEL_1721088526174dadb4439d2bc1892cc8",
       "IPY_MODEL_8b6701a4a71d4c96b3fe0b6998ec04b6"
      ],
      "layout": "IPY_MODEL_96415780acf74a5485403e0e940728be"
     }
    },
    "2181cd41fbef48c5a42b92a3b545fd44": {
     "model_module": "@jupyter-widgets/controls",
     "model_module_version": "1.5.0",
     "model_name": "ProgressStyleModel",
     "state": {
      "_model_module": "@jupyter-widgets/controls",
      "_model_module_version": "1.5.0",
      "_model_name": "ProgressStyleModel",
      "_view_count": null,
      "_view_module": "@jupyter-widgets/base",
      "_view_module_version": "1.2.0",
      "_view_name": "StyleView",
      "bar_color": null,
      "description_width": ""
     }
    },
    "337e5f0b8e5a4f58955e9be9af4710cb": {
     "model_module": "@jupyter-widgets/controls",
     "model_module_version": "1.5.0",
     "model_name": "HTMLModel",
     "state": {
      "_dom_classes": [],
      "_model_module": "@jupyter-widgets/controls",
      "_model_module_version": "1.5.0",
      "_model_name": "HTMLModel",
      "_view_count": null,
      "_view_module": "@jupyter-widgets/controls",
      "_view_module_version": "1.5.0",
      "_view_name": "HTMLView",
      "description": "",
      "description_tooltip": null,
      "layout": "IPY_MODEL_f0f265a37c424241bfdd843995e96f86",
      "placeholder": "​",
      "style": "IPY_MODEL_c9e67e2e43c048b2af6c10edc662ef22",
      "value": " 24.0/24.0 [00:00&lt;00:00, 526B/s]"
     }
    },
    "3e6392efd67742f7923fa5a0520f0539": {
     "model_module": "@jupyter-widgets/base",
     "model_module_version": "1.2.0",
     "model_name": "LayoutModel",
     "state": {
      "_model_module": "@jupyter-widgets/base",
      "_model_module_version": "1.2.0",
      "_model_name": "LayoutModel",
      "_view_count": null,
      "_view_module": "@jupyter-widgets/base",
      "_view_module_version": "1.2.0",
      "_view_name": "LayoutView",
      "align_content": null,
      "align_items": null,
      "align_self": null,
      "border": null,
      "bottom": null,
      "display": null,
      "flex": null,
      "flex_flow": null,
      "grid_area": null,
      "grid_auto_columns": null,
      "grid_auto_flow": null,
      "grid_auto_rows": null,
      "grid_column": null,
      "grid_gap": null,
      "grid_row": null,
      "grid_template_areas": null,
      "grid_template_columns": null,
      "grid_template_rows": null,
      "height": null,
      "justify_content": null,
      "justify_items": null,
      "left": null,
      "margin": null,
      "max_height": null,
      "max_width": null,
      "min_height": null,
      "min_width": null,
      "object_fit": null,
      "object_position": null,
      "order": null,
      "overflow": null,
      "overflow_x": null,
      "overflow_y": null,
      "padding": null,
      "right": null,
      "top": null,
      "visibility": null,
      "width": null
     }
    },
    "427c64ee6474498eb821fc73493599d8": {
     "model_module": "@jupyter-widgets/controls",
     "model_module_version": "1.5.0",
     "model_name": "ProgressStyleModel",
     "state": {
      "_model_module": "@jupyter-widgets/controls",
      "_model_module_version": "1.5.0",
      "_model_name": "ProgressStyleModel",
      "_view_count": null,
      "_view_module": "@jupyter-widgets/base",
      "_view_module_version": "1.2.0",
      "_view_name": "StyleView",
      "bar_color": null,
      "description_width": ""
     }
    },
    "435df744905c490d8b5457f50d400db2": {
     "model_module": "@jupyter-widgets/base",
     "model_module_version": "1.2.0",
     "model_name": "LayoutModel",
     "state": {
      "_model_module": "@jupyter-widgets/base",
      "_model_module_version": "1.2.0",
      "_model_name": "LayoutModel",
      "_view_count": null,
      "_view_module": "@jupyter-widgets/base",
      "_view_module_version": "1.2.0",
      "_view_name": "LayoutView",
      "align_content": null,
      "align_items": null,
      "align_self": null,
      "border": null,
      "bottom": null,
      "display": null,
      "flex": null,
      "flex_flow": null,
      "grid_area": null,
      "grid_auto_columns": null,
      "grid_auto_flow": null,
      "grid_auto_rows": null,
      "grid_column": null,
      "grid_gap": null,
      "grid_row": null,
      "grid_template_areas": null,
      "grid_template_columns": null,
      "grid_template_rows": null,
      "height": null,
      "justify_content": null,
      "justify_items": null,
      "left": null,
      "margin": null,
      "max_height": null,
      "max_width": null,
      "min_height": null,
      "min_width": null,
      "object_fit": null,
      "object_position": null,
      "order": null,
      "overflow": null,
      "overflow_x": null,
      "overflow_y": null,
      "padding": null,
      "right": null,
      "top": null,
      "visibility": null,
      "width": null
     }
    },
    "541b265cf4914834914aa8e05ab70da3": {
     "model_module": "@jupyter-widgets/base",
     "model_module_version": "1.2.0",
     "model_name": "LayoutModel",
     "state": {
      "_model_module": "@jupyter-widgets/base",
      "_model_module_version": "1.2.0",
      "_model_name": "LayoutModel",
      "_view_count": null,
      "_view_module": "@jupyter-widgets/base",
      "_view_module_version": "1.2.0",
      "_view_name": "LayoutView",
      "align_content": null,
      "align_items": null,
      "align_self": null,
      "border": null,
      "bottom": null,
      "display": null,
      "flex": null,
      "flex_flow": null,
      "grid_area": null,
      "grid_auto_columns": null,
      "grid_auto_flow": null,
      "grid_auto_rows": null,
      "grid_column": null,
      "grid_gap": null,
      "grid_row": null,
      "grid_template_areas": null,
      "grid_template_columns": null,
      "grid_template_rows": null,
      "height": null,
      "justify_content": null,
      "justify_items": null,
      "left": null,
      "margin": null,
      "max_height": null,
      "max_width": null,
      "min_height": null,
      "min_width": null,
      "object_fit": null,
      "object_position": null,
      "order": null,
      "overflow": null,
      "overflow_x": null,
      "overflow_y": null,
      "padding": null,
      "right": null,
      "top": null,
      "visibility": null,
      "width": null
     }
    },
    "55abcbc6dc994376aab360f433a320d5": {
     "model_module": "@jupyter-widgets/base",
     "model_module_version": "1.2.0",
     "model_name": "LayoutModel",
     "state": {
      "_model_module": "@jupyter-widgets/base",
      "_model_module_version": "1.2.0",
      "_model_name": "LayoutModel",
      "_view_count": null,
      "_view_module": "@jupyter-widgets/base",
      "_view_module_version": "1.2.0",
      "_view_name": "LayoutView",
      "align_content": null,
      "align_items": null,
      "align_self": null,
      "border": null,
      "bottom": null,
      "display": null,
      "flex": null,
      "flex_flow": null,
      "grid_area": null,
      "grid_auto_columns": null,
      "grid_auto_flow": null,
      "grid_auto_rows": null,
      "grid_column": null,
      "grid_gap": null,
      "grid_row": null,
      "grid_template_areas": null,
      "grid_template_columns": null,
      "grid_template_rows": null,
      "height": null,
      "justify_content": null,
      "justify_items": null,
      "left": null,
      "margin": null,
      "max_height": null,
      "max_width": null,
      "min_height": null,
      "min_width": null,
      "object_fit": null,
      "object_position": null,
      "order": null,
      "overflow": null,
      "overflow_x": null,
      "overflow_y": null,
      "padding": null,
      "right": null,
      "top": null,
      "visibility": null,
      "width": null
     }
    },
    "5673e58c48ef435c877261e3cfd5c110": {
     "model_module": "@jupyter-widgets/base",
     "model_module_version": "1.2.0",
     "model_name": "LayoutModel",
     "state": {
      "_model_module": "@jupyter-widgets/base",
      "_model_module_version": "1.2.0",
      "_model_name": "LayoutModel",
      "_view_count": null,
      "_view_module": "@jupyter-widgets/base",
      "_view_module_version": "1.2.0",
      "_view_name": "LayoutView",
      "align_content": null,
      "align_items": null,
      "align_self": null,
      "border": null,
      "bottom": null,
      "display": null,
      "flex": null,
      "flex_flow": null,
      "grid_area": null,
      "grid_auto_columns": null,
      "grid_auto_flow": null,
      "grid_auto_rows": null,
      "grid_column": null,
      "grid_gap": null,
      "grid_row": null,
      "grid_template_areas": null,
      "grid_template_columns": null,
      "grid_template_rows": null,
      "height": null,
      "justify_content": null,
      "justify_items": null,
      "left": null,
      "margin": null,
      "max_height": null,
      "max_width": null,
      "min_height": null,
      "min_width": null,
      "object_fit": null,
      "object_position": null,
      "order": null,
      "overflow": null,
      "overflow_x": null,
      "overflow_y": null,
      "padding": null,
      "right": null,
      "top": null,
      "visibility": null,
      "width": null
     }
    },
    "576b8214080b4888b2834449e602a2d4": {
     "model_module": "@jupyter-widgets/controls",
     "model_module_version": "1.5.0",
     "model_name": "DescriptionStyleModel",
     "state": {
      "_model_module": "@jupyter-widgets/controls",
      "_model_module_version": "1.5.0",
      "_model_name": "DescriptionStyleModel",
      "_view_count": null,
      "_view_module": "@jupyter-widgets/base",
      "_view_module_version": "1.2.0",
      "_view_name": "StyleView",
      "description_width": ""
     }
    },
    "5965246e3e4841ce9a65664bc3e5c97c": {
     "model_module": "@jupyter-widgets/controls",
     "model_module_version": "1.5.0",
     "model_name": "DescriptionStyleModel",
     "state": {
      "_model_module": "@jupyter-widgets/controls",
      "_model_module_version": "1.5.0",
      "_model_name": "DescriptionStyleModel",
      "_view_count": null,
      "_view_module": "@jupyter-widgets/base",
      "_view_module_version": "1.2.0",
      "_view_name": "StyleView",
      "description_width": ""
     }
    },
    "59cc4277b06a491d86e5a42833da6328": {
     "model_module": "@jupyter-widgets/controls",
     "model_module_version": "1.5.0",
     "model_name": "HTMLModel",
     "state": {
      "_dom_classes": [],
      "_model_module": "@jupyter-widgets/controls",
      "_model_module_version": "1.5.0",
      "_model_name": "HTMLModel",
      "_view_count": null,
      "_view_module": "@jupyter-widgets/controls",
      "_view_module_version": "1.5.0",
      "_view_name": "HTMLView",
      "description": "",
      "description_tooltip": null,
      "layout": "IPY_MODEL_75ac69d3c6ce4aa3946758b17997b609",
      "placeholder": "​",
      "style": "IPY_MODEL_576b8214080b4888b2834449e602a2d4",
      "value": "Downloading: 100%"
     }
    },
    "5c739ee28a5e4557bc2c184bb44a34fc": {
     "model_module": "@jupyter-widgets/controls",
     "model_module_version": "1.5.0",
     "model_name": "DescriptionStyleModel",
     "state": {
      "_model_module": "@jupyter-widgets/controls",
      "_model_module_version": "1.5.0",
      "_model_name": "DescriptionStyleModel",
      "_view_count": null,
      "_view_module": "@jupyter-widgets/base",
      "_view_module_version": "1.2.0",
      "_view_name": "StyleView",
      "description_width": ""
     }
    },
    "5cf0e90d59314f36be304be10ea360ee": {
     "model_module": "@jupyter-widgets/controls",
     "model_module_version": "1.5.0",
     "model_name": "FloatProgressModel",
     "state": {
      "_dom_classes": [],
      "_model_module": "@jupyter-widgets/controls",
      "_model_module_version": "1.5.0",
      "_model_name": "FloatProgressModel",
      "_view_count": null,
      "_view_module": "@jupyter-widgets/controls",
      "_view_module_version": "1.5.0",
      "_view_name": "ProgressView",
      "bar_style": "success",
      "description": "",
      "description_tooltip": null,
      "layout": "IPY_MODEL_7d7f8e65e7054336ad17f581c6675a85",
      "max": 714355318,
      "min": 0,
      "orientation": "horizontal",
      "style": "IPY_MODEL_2181cd41fbef48c5a42b92a3b545fd44",
      "value": 714355318
     }
    },
    "630cb50fa8614c9da1ec913f82829efe": {
     "model_module": "@jupyter-widgets/controls",
     "model_module_version": "1.5.0",
     "model_name": "HTMLModel",
     "state": {
      "_dom_classes": [],
      "_model_module": "@jupyter-widgets/controls",
      "_model_module_version": "1.5.0",
      "_model_name": "HTMLModel",
      "_view_count": null,
      "_view_module": "@jupyter-widgets/controls",
      "_view_module_version": "1.5.0",
      "_view_name": "HTMLView",
      "description": "",
      "description_tooltip": null,
      "layout": "IPY_MODEL_081dbf7357014eba80d830d27312bfbc",
      "placeholder": "​",
      "style": "IPY_MODEL_5c739ee28a5e4557bc2c184bb44a34fc",
      "value": " 681M/681M [00:15&lt;00:00, 57.0MB/s]"
     }
    },
    "64ad2762a27944ccae6cd808f5080c0f": {
     "model_module": "@jupyter-widgets/controls",
     "model_module_version": "1.5.0",
     "model_name": "DescriptionStyleModel",
     "state": {
      "_model_module": "@jupyter-widgets/controls",
      "_model_module_version": "1.5.0",
      "_model_name": "DescriptionStyleModel",
      "_view_count": null,
      "_view_module": "@jupyter-widgets/base",
      "_view_module_version": "1.2.0",
      "_view_name": "StyleView",
      "description_width": ""
     }
    },
    "67fb32a871a14cc88f8a91dbc62359d9": {
     "model_module": "@jupyter-widgets/base",
     "model_module_version": "1.2.0",
     "model_name": "LayoutModel",
     "state": {
      "_model_module": "@jupyter-widgets/base",
      "_model_module_version": "1.2.0",
      "_model_name": "LayoutModel",
      "_view_count": null,
      "_view_module": "@jupyter-widgets/base",
      "_view_module_version": "1.2.0",
      "_view_name": "LayoutView",
      "align_content": null,
      "align_items": null,
      "align_self": null,
      "border": null,
      "bottom": null,
      "display": null,
      "flex": null,
      "flex_flow": null,
      "grid_area": null,
      "grid_auto_columns": null,
      "grid_auto_flow": null,
      "grid_auto_rows": null,
      "grid_column": null,
      "grid_gap": null,
      "grid_row": null,
      "grid_template_areas": null,
      "grid_template_columns": null,
      "grid_template_rows": null,
      "height": null,
      "justify_content": null,
      "justify_items": null,
      "left": null,
      "margin": null,
      "max_height": null,
      "max_width": null,
      "min_height": null,
      "min_width": null,
      "object_fit": null,
      "object_position": null,
      "order": null,
      "overflow": null,
      "overflow_x": null,
      "overflow_y": null,
      "padding": null,
      "right": null,
      "top": null,
      "visibility": null,
      "width": null
     }
    },
    "725fdb47f3f84b86a75217c864160319": {
     "model_module": "@jupyter-widgets/controls",
     "model_module_version": "1.5.0",
     "model_name": "HBoxModel",
     "state": {
      "_dom_classes": [],
      "_model_module": "@jupyter-widgets/controls",
      "_model_module_version": "1.5.0",
      "_model_name": "HBoxModel",
      "_view_count": null,
      "_view_module": "@jupyter-widgets/controls",
      "_view_module_version": "1.5.0",
      "_view_name": "HBoxView",
      "box_style": "",
      "children": [
       "IPY_MODEL_b3c54f2e2e314f52a5b90aa816766adf",
       "IPY_MODEL_77723cf43a354acc802d8ffba6a58917",
       "IPY_MODEL_bff028f7e9c2478bb2d0c1321c0d5428"
      ],
      "layout": "IPY_MODEL_541b265cf4914834914aa8e05ab70da3"
     }
    },
    "726cc99da83b43d3b086f773df78d2dd": {
     "model_module": "@jupyter-widgets/base",
     "model_module_version": "1.2.0",
     "model_name": "LayoutModel",
     "state": {
      "_model_module": "@jupyter-widgets/base",
      "_model_module_version": "1.2.0",
      "_model_name": "LayoutModel",
      "_view_count": null,
      "_view_module": "@jupyter-widgets/base",
      "_view_module_version": "1.2.0",
      "_view_name": "LayoutView",
      "align_content": null,
      "align_items": null,
      "align_self": null,
      "border": null,
      "bottom": null,
      "display": null,
      "flex": null,
      "flex_flow": null,
      "grid_area": null,
      "grid_auto_columns": null,
      "grid_auto_flow": null,
      "grid_auto_rows": null,
      "grid_column": null,
      "grid_gap": null,
      "grid_row": null,
      "grid_template_areas": null,
      "grid_template_columns": null,
      "grid_template_rows": null,
      "height": null,
      "justify_content": null,
      "justify_items": null,
      "left": null,
      "margin": null,
      "max_height": null,
      "max_width": null,
      "min_height": null,
      "min_width": null,
      "object_fit": null,
      "object_position": null,
      "order": null,
      "overflow": null,
      "overflow_x": null,
      "overflow_y": null,
      "padding": null,
      "right": null,
      "top": null,
      "visibility": null,
      "width": null
     }
    },
    "72b8202895504095a0b92b1321c92859": {
     "model_module": "@jupyter-widgets/controls",
     "model_module_version": "1.5.0",
     "model_name": "DescriptionStyleModel",
     "state": {
      "_model_module": "@jupyter-widgets/controls",
      "_model_module_version": "1.5.0",
      "_model_name": "DescriptionStyleModel",
      "_view_count": null,
      "_view_module": "@jupyter-widgets/base",
      "_view_module_version": "1.2.0",
      "_view_name": "StyleView",
      "description_width": ""
     }
    },
    "73eb0229fe2946c9b6611a6a59275dcc": {
     "model_module": "@jupyter-widgets/base",
     "model_module_version": "1.2.0",
     "model_name": "LayoutModel",
     "state": {
      "_model_module": "@jupyter-widgets/base",
      "_model_module_version": "1.2.0",
      "_model_name": "LayoutModel",
      "_view_count": null,
      "_view_module": "@jupyter-widgets/base",
      "_view_module_version": "1.2.0",
      "_view_name": "LayoutView",
      "align_content": null,
      "align_items": null,
      "align_self": null,
      "border": null,
      "bottom": null,
      "display": null,
      "flex": null,
      "flex_flow": null,
      "grid_area": null,
      "grid_auto_columns": null,
      "grid_auto_flow": null,
      "grid_auto_rows": null,
      "grid_column": null,
      "grid_gap": null,
      "grid_row": null,
      "grid_template_areas": null,
      "grid_template_columns": null,
      "grid_template_rows": null,
      "height": null,
      "justify_content": null,
      "justify_items": null,
      "left": null,
      "margin": null,
      "max_height": null,
      "max_width": null,
      "min_height": null,
      "min_width": null,
      "object_fit": null,
      "object_position": null,
      "order": null,
      "overflow": null,
      "overflow_x": null,
      "overflow_y": null,
      "padding": null,
      "right": null,
      "top": null,
      "visibility": null,
      "width": null
     }
    },
    "75ac69d3c6ce4aa3946758b17997b609": {
     "model_module": "@jupyter-widgets/base",
     "model_module_version": "1.2.0",
     "model_name": "LayoutModel",
     "state": {
      "_model_module": "@jupyter-widgets/base",
      "_model_module_version": "1.2.0",
      "_model_name": "LayoutModel",
      "_view_count": null,
      "_view_module": "@jupyter-widgets/base",
      "_view_module_version": "1.2.0",
      "_view_name": "LayoutView",
      "align_content": null,
      "align_items": null,
      "align_self": null,
      "border": null,
      "bottom": null,
      "display": null,
      "flex": null,
      "flex_flow": null,
      "grid_area": null,
      "grid_auto_columns": null,
      "grid_auto_flow": null,
      "grid_auto_rows": null,
      "grid_column": null,
      "grid_gap": null,
      "grid_row": null,
      "grid_template_areas": null,
      "grid_template_columns": null,
      "grid_template_rows": null,
      "height": null,
      "justify_content": null,
      "justify_items": null,
      "left": null,
      "margin": null,
      "max_height": null,
      "max_width": null,
      "min_height": null,
      "min_width": null,
      "object_fit": null,
      "object_position": null,
      "order": null,
      "overflow": null,
      "overflow_x": null,
      "overflow_y": null,
      "padding": null,
      "right": null,
      "top": null,
      "visibility": null,
      "width": null
     }
    },
    "75efa57ec4a74339aaa4d84e553cac92": {
     "model_module": "@jupyter-widgets/controls",
     "model_module_version": "1.5.0",
     "model_name": "ProgressStyleModel",
     "state": {
      "_model_module": "@jupyter-widgets/controls",
      "_model_module_version": "1.5.0",
      "_model_name": "ProgressStyleModel",
      "_view_count": null,
      "_view_module": "@jupyter-widgets/base",
      "_view_module_version": "1.2.0",
      "_view_name": "StyleView",
      "bar_color": null,
      "description_width": ""
     }
    },
    "77723cf43a354acc802d8ffba6a58917": {
     "model_module": "@jupyter-widgets/controls",
     "model_module_version": "1.5.0",
     "model_name": "FloatProgressModel",
     "state": {
      "_dom_classes": [],
      "_model_module": "@jupyter-widgets/controls",
      "_model_module_version": "1.5.0",
      "_model_name": "FloatProgressModel",
      "_view_count": null,
      "_view_module": "@jupyter-widgets/controls",
      "_view_module_version": "1.5.0",
      "_view_name": "ProgressView",
      "bar_style": "success",
      "description": "",
      "description_tooltip": null,
      "layout": "IPY_MODEL_73eb0229fe2946c9b6611a6a59275dcc",
      "max": 1649718,
      "min": 0,
      "orientation": "horizontal",
      "style": "IPY_MODEL_07e5df28a4dc4efda32522f3466729d8",
      "value": 1649718
     }
    },
    "7d7f8e65e7054336ad17f581c6675a85": {
     "model_module": "@jupyter-widgets/base",
     "model_module_version": "1.2.0",
     "model_name": "LayoutModel",
     "state": {
      "_model_module": "@jupyter-widgets/base",
      "_model_module_version": "1.2.0",
      "_model_name": "LayoutModel",
      "_view_count": null,
      "_view_module": "@jupyter-widgets/base",
      "_view_module_version": "1.2.0",
      "_view_name": "LayoutView",
      "align_content": null,
      "align_items": null,
      "align_self": null,
      "border": null,
      "bottom": null,
      "display": null,
      "flex": null,
      "flex_flow": null,
      "grid_area": null,
      "grid_auto_columns": null,
      "grid_auto_flow": null,
      "grid_auto_rows": null,
      "grid_column": null,
      "grid_gap": null,
      "grid_row": null,
      "grid_template_areas": null,
      "grid_template_columns": null,
      "grid_template_rows": null,
      "height": null,
      "justify_content": null,
      "justify_items": null,
      "left": null,
      "margin": null,
      "max_height": null,
      "max_width": null,
      "min_height": null,
      "min_width": null,
      "object_fit": null,
      "object_position": null,
      "order": null,
      "overflow": null,
      "overflow_x": null,
      "overflow_y": null,
      "padding": null,
      "right": null,
      "top": null,
      "visibility": null,
      "width": null
     }
    },
    "849be1bba1194be491f56ed44e7dba31": {
     "model_module": "@jupyter-widgets/controls",
     "model_module_version": "1.5.0",
     "model_name": "DescriptionStyleModel",
     "state": {
      "_model_module": "@jupyter-widgets/controls",
      "_model_module_version": "1.5.0",
      "_model_name": "DescriptionStyleModel",
      "_view_count": null,
      "_view_module": "@jupyter-widgets/base",
      "_view_module_version": "1.2.0",
      "_view_name": "StyleView",
      "description_width": ""
     }
    },
    "8b6701a4a71d4c96b3fe0b6998ec04b6": {
     "model_module": "@jupyter-widgets/controls",
     "model_module_version": "1.5.0",
     "model_name": "HTMLModel",
     "state": {
      "_dom_classes": [],
      "_model_module": "@jupyter-widgets/controls",
      "_model_module_version": "1.5.0",
      "_model_name": "HTMLModel",
      "_view_count": null,
      "_view_module": "@jupyter-widgets/controls",
      "_view_module_version": "1.5.0",
      "_view_name": "HTMLView",
      "description": "",
      "description_tooltip": null,
      "layout": "IPY_MODEL_ba268b6e21de49eca94fea2f5b4ffa44",
      "placeholder": "​",
      "style": "IPY_MODEL_f78ba759d5bf461ba67a652d5cd02440",
      "value": " 112/112 [00:00&lt;00:00, 1.59kB/s]"
     }
    },
    "96415780acf74a5485403e0e940728be": {
     "model_module": "@jupyter-widgets/base",
     "model_module_version": "1.2.0",
     "model_name": "LayoutModel",
     "state": {
      "_model_module": "@jupyter-widgets/base",
      "_model_module_version": "1.2.0",
      "_model_name": "LayoutModel",
      "_view_count": null,
      "_view_module": "@jupyter-widgets/base",
      "_view_module_version": "1.2.0",
      "_view_name": "LayoutView",
      "align_content": null,
      "align_items": null,
      "align_self": null,
      "border": null,
      "bottom": null,
      "display": null,
      "flex": null,
      "flex_flow": null,
      "grid_area": null,
      "grid_auto_columns": null,
      "grid_auto_flow": null,
      "grid_auto_rows": null,
      "grid_column": null,
      "grid_gap": null,
      "grid_row": null,
      "grid_template_areas": null,
      "grid_template_columns": null,
      "grid_template_rows": null,
      "height": null,
      "justify_content": null,
      "justify_items": null,
      "left": null,
      "margin": null,
      "max_height": null,
      "max_width": null,
      "min_height": null,
      "min_width": null,
      "object_fit": null,
      "object_position": null,
      "order": null,
      "overflow": null,
      "overflow_x": null,
      "overflow_y": null,
      "padding": null,
      "right": null,
      "top": null,
      "visibility": null,
      "width": null
     }
    },
    "985ed171263a4f4e81818cd3027a8d87": {
     "model_module": "@jupyter-widgets/controls",
     "model_module_version": "1.5.0",
     "model_name": "FloatProgressModel",
     "state": {
      "_dom_classes": [],
      "_model_module": "@jupyter-widgets/controls",
      "_model_module_version": "1.5.0",
      "_model_name": "FloatProgressModel",
      "_view_count": null,
      "_view_module": "@jupyter-widgets/controls",
      "_view_module_version": "1.5.0",
      "_view_name": "ProgressView",
      "bar_style": "success",
      "description": "",
      "description_tooltip": null,
      "layout": "IPY_MODEL_435df744905c490d8b5457f50d400db2",
      "max": 24,
      "min": 0,
      "orientation": "horizontal",
      "style": "IPY_MODEL_75efa57ec4a74339aaa4d84e553cac92",
      "value": 24
     }
    },
    "9c59daa252334cd8be11ecbcc6047502": {
     "model_module": "@jupyter-widgets/base",
     "model_module_version": "1.2.0",
     "model_name": "LayoutModel",
     "state": {
      "_model_module": "@jupyter-widgets/base",
      "_model_module_version": "1.2.0",
      "_model_name": "LayoutModel",
      "_view_count": null,
      "_view_module": "@jupyter-widgets/base",
      "_view_module_version": "1.2.0",
      "_view_name": "LayoutView",
      "align_content": null,
      "align_items": null,
      "align_self": null,
      "border": null,
      "bottom": null,
      "display": null,
      "flex": null,
      "flex_flow": null,
      "grid_area": null,
      "grid_auto_columns": null,
      "grid_auto_flow": null,
      "grid_auto_rows": null,
      "grid_column": null,
      "grid_gap": null,
      "grid_row": null,
      "grid_template_areas": null,
      "grid_template_columns": null,
      "grid_template_rows": null,
      "height": null,
      "justify_content": null,
      "justify_items": null,
      "left": null,
      "margin": null,
      "max_height": null,
      "max_width": null,
      "min_height": null,
      "min_width": null,
      "object_fit": null,
      "object_position": null,
      "order": null,
      "overflow": null,
      "overflow_x": null,
      "overflow_y": null,
      "padding": null,
      "right": null,
      "top": null,
      "visibility": null,
      "width": null
     }
    },
    "9d12b6cfa0f64127b0af8c25e5c34071": {
     "model_module": "@jupyter-widgets/controls",
     "model_module_version": "1.5.0",
     "model_name": "HTMLModel",
     "state": {
      "_dom_classes": [],
      "_model_module": "@jupyter-widgets/controls",
      "_model_module_version": "1.5.0",
      "_model_name": "HTMLModel",
      "_view_count": null,
      "_view_module": "@jupyter-widgets/controls",
      "_view_module_version": "1.5.0",
      "_view_name": "HTMLView",
      "description": "",
      "description_tooltip": null,
      "layout": "IPY_MODEL_9c59daa252334cd8be11ecbcc6047502",
      "placeholder": "​",
      "style": "IPY_MODEL_72b8202895504095a0b92b1321c92859",
      "value": "Downloading: 100%"
     }
    },
    "a34fd366c6f54ba7b36a7f0910c73a23": {
     "model_module": "@jupyter-widgets/controls",
     "model_module_version": "1.5.0",
     "model_name": "ProgressStyleModel",
     "state": {
      "_model_module": "@jupyter-widgets/controls",
      "_model_module_version": "1.5.0",
      "_model_name": "ProgressStyleModel",
      "_view_count": null,
      "_view_module": "@jupyter-widgets/base",
      "_view_module_version": "1.2.0",
      "_view_name": "StyleView",
      "bar_color": null,
      "description_width": ""
     }
    },
    "b2116aa5a19a4a7e98e0bd26e842835d": {
     "model_module": "@jupyter-widgets/base",
     "model_module_version": "1.2.0",
     "model_name": "LayoutModel",
     "state": {
      "_model_module": "@jupyter-widgets/base",
      "_model_module_version": "1.2.0",
      "_model_name": "LayoutModel",
      "_view_count": null,
      "_view_module": "@jupyter-widgets/base",
      "_view_module_version": "1.2.0",
      "_view_name": "LayoutView",
      "align_content": null,
      "align_items": null,
      "align_self": null,
      "border": null,
      "bottom": null,
      "display": null,
      "flex": null,
      "flex_flow": null,
      "grid_area": null,
      "grid_auto_columns": null,
      "grid_auto_flow": null,
      "grid_auto_rows": null,
      "grid_column": null,
      "grid_gap": null,
      "grid_row": null,
      "grid_template_areas": null,
      "grid_template_columns": null,
      "grid_template_rows": null,
      "height": null,
      "justify_content": null,
      "justify_items": null,
      "left": null,
      "margin": null,
      "max_height": null,
      "max_width": null,
      "min_height": null,
      "min_width": null,
      "object_fit": null,
      "object_position": null,
      "order": null,
      "overflow": null,
      "overflow_x": null,
      "overflow_y": null,
      "padding": null,
      "right": null,
      "top": null,
      "visibility": null,
      "width": null
     }
    },
    "b3c54f2e2e314f52a5b90aa816766adf": {
     "model_module": "@jupyter-widgets/controls",
     "model_module_version": "1.5.0",
     "model_name": "HTMLModel",
     "state": {
      "_dom_classes": [],
      "_model_module": "@jupyter-widgets/controls",
      "_model_module_version": "1.5.0",
      "_model_name": "HTMLModel",
      "_view_count": null,
      "_view_module": "@jupyter-widgets/controls",
      "_view_module_version": "1.5.0",
      "_view_name": "HTMLView",
      "description": "",
      "description_tooltip": null,
      "layout": "IPY_MODEL_3e6392efd67742f7923fa5a0520f0539",
      "placeholder": "​",
      "style": "IPY_MODEL_849be1bba1194be491f56ed44e7dba31",
      "value": "Downloading: 100%"
     }
    },
    "b882b510844040c3b258085394ee201e": {
     "model_module": "@jupyter-widgets/controls",
     "model_module_version": "1.5.0",
     "model_name": "DescriptionStyleModel",
     "state": {
      "_model_module": "@jupyter-widgets/controls",
      "_model_module_version": "1.5.0",
      "_model_name": "DescriptionStyleModel",
      "_view_count": null,
      "_view_module": "@jupyter-widgets/base",
      "_view_module_version": "1.2.0",
      "_view_name": "StyleView",
      "description_width": ""
     }
    },
    "b8aaabcb3bb845cb9e8a20fcb11ee07f": {
     "model_module": "@jupyter-widgets/base",
     "model_module_version": "1.2.0",
     "model_name": "LayoutModel",
     "state": {
      "_model_module": "@jupyter-widgets/base",
      "_model_module_version": "1.2.0",
      "_model_name": "LayoutModel",
      "_view_count": null,
      "_view_module": "@jupyter-widgets/base",
      "_view_module_version": "1.2.0",
      "_view_name": "LayoutView",
      "align_content": null,
      "align_items": null,
      "align_self": null,
      "border": null,
      "bottom": null,
      "display": null,
      "flex": null,
      "flex_flow": null,
      "grid_area": null,
      "grid_auto_columns": null,
      "grid_auto_flow": null,
      "grid_auto_rows": null,
      "grid_column": null,
      "grid_gap": null,
      "grid_row": null,
      "grid_template_areas": null,
      "grid_template_columns": null,
      "grid_template_rows": null,
      "height": null,
      "justify_content": null,
      "justify_items": null,
      "left": null,
      "margin": null,
      "max_height": null,
      "max_width": null,
      "min_height": null,
      "min_width": null,
      "object_fit": null,
      "object_position": null,
      "order": null,
      "overflow": null,
      "overflow_x": null,
      "overflow_y": null,
      "padding": null,
      "right": null,
      "top": null,
      "visibility": null,
      "width": null
     }
    },
    "ba268b6e21de49eca94fea2f5b4ffa44": {
     "model_module": "@jupyter-widgets/base",
     "model_module_version": "1.2.0",
     "model_name": "LayoutModel",
     "state": {
      "_model_module": "@jupyter-widgets/base",
      "_model_module_version": "1.2.0",
      "_model_name": "LayoutModel",
      "_view_count": null,
      "_view_module": "@jupyter-widgets/base",
      "_view_module_version": "1.2.0",
      "_view_name": "LayoutView",
      "align_content": null,
      "align_items": null,
      "align_self": null,
      "border": null,
      "bottom": null,
      "display": null,
      "flex": null,
      "flex_flow": null,
      "grid_area": null,
      "grid_auto_columns": null,
      "grid_auto_flow": null,
      "grid_auto_rows": null,
      "grid_column": null,
      "grid_gap": null,
      "grid_row": null,
      "grid_template_areas": null,
      "grid_template_columns": null,
      "grid_template_rows": null,
      "height": null,
      "justify_content": null,
      "justify_items": null,
      "left": null,
      "margin": null,
      "max_height": null,
      "max_width": null,
      "min_height": null,
      "min_width": null,
      "object_fit": null,
      "object_position": null,
      "order": null,
      "overflow": null,
      "overflow_x": null,
      "overflow_y": null,
      "padding": null,
      "right": null,
      "top": null,
      "visibility": null,
      "width": null
     }
    },
    "bff028f7e9c2478bb2d0c1321c0d5428": {
     "model_module": "@jupyter-widgets/controls",
     "model_module_version": "1.5.0",
     "model_name": "HTMLModel",
     "state": {
      "_dom_classes": [],
      "_model_module": "@jupyter-widgets/controls",
      "_model_module_version": "1.5.0",
      "_model_name": "HTMLModel",
      "_view_count": null,
      "_view_module": "@jupyter-widgets/controls",
      "_view_module_version": "1.5.0",
      "_view_name": "HTMLView",
      "description": "",
      "description_tooltip": null,
      "layout": "IPY_MODEL_b8aaabcb3bb845cb9e8a20fcb11ee07f",
      "placeholder": "​",
      "style": "IPY_MODEL_b882b510844040c3b258085394ee201e",
      "value": " 1.57M/1.57M [00:00&lt;00:00, 8.91MB/s]"
     }
    },
    "c9e67e2e43c048b2af6c10edc662ef22": {
     "model_module": "@jupyter-widgets/controls",
     "model_module_version": "1.5.0",
     "model_name": "DescriptionStyleModel",
     "state": {
      "_model_module": "@jupyter-widgets/controls",
      "_model_module_version": "1.5.0",
      "_model_name": "DescriptionStyleModel",
      "_view_count": null,
      "_view_module": "@jupyter-widgets/base",
      "_view_module_version": "1.2.0",
      "_view_name": "StyleView",
      "description_width": ""
     }
    },
    "cd3eef0ece4740baa295871d75d647ab": {
     "model_module": "@jupyter-widgets/base",
     "model_module_version": "1.2.0",
     "model_name": "LayoutModel",
     "state": {
      "_model_module": "@jupyter-widgets/base",
      "_model_module_version": "1.2.0",
      "_model_name": "LayoutModel",
      "_view_count": null,
      "_view_module": "@jupyter-widgets/base",
      "_view_module_version": "1.2.0",
      "_view_name": "LayoutView",
      "align_content": null,
      "align_items": null,
      "align_self": null,
      "border": null,
      "bottom": null,
      "display": null,
      "flex": null,
      "flex_flow": null,
      "grid_area": null,
      "grid_auto_columns": null,
      "grid_auto_flow": null,
      "grid_auto_rows": null,
      "grid_column": null,
      "grid_gap": null,
      "grid_row": null,
      "grid_template_areas": null,
      "grid_template_columns": null,
      "grid_template_rows": null,
      "height": null,
      "justify_content": null,
      "justify_items": null,
      "left": null,
      "margin": null,
      "max_height": null,
      "max_width": null,
      "min_height": null,
      "min_width": null,
      "object_fit": null,
      "object_position": null,
      "order": null,
      "overflow": null,
      "overflow_x": null,
      "overflow_y": null,
      "padding": null,
      "right": null,
      "top": null,
      "visibility": null,
      "width": null
     }
    },
    "cebe2bc1799c4170acd7fdcb91348f46": {
     "model_module": "@jupyter-widgets/controls",
     "model_module_version": "1.5.0",
     "model_name": "HTMLModel",
     "state": {
      "_dom_classes": [],
      "_model_module": "@jupyter-widgets/controls",
      "_model_module_version": "1.5.0",
      "_model_name": "HTMLModel",
      "_view_count": null,
      "_view_module": "@jupyter-widgets/controls",
      "_view_module_version": "1.5.0",
      "_view_name": "HTMLView",
      "description": "",
      "description_tooltip": null,
      "layout": "IPY_MODEL_f5a1076aba3e4868ac9e53d334ea1237",
      "placeholder": "​",
      "style": "IPY_MODEL_5965246e3e4841ce9a65664bc3e5c97c",
      "value": " 642/642 [00:00&lt;00:00, 9.50kB/s]"
     }
    },
    "db63c0bfa008430f80686fdf79d69d31": {
     "model_module": "@jupyter-widgets/controls",
     "model_module_version": "1.5.0",
     "model_name": "HBoxModel",
     "state": {
      "_dom_classes": [],
      "_model_module": "@jupyter-widgets/controls",
      "_model_module_version": "1.5.0",
      "_model_name": "HBoxModel",
      "_view_count": null,
      "_view_module": "@jupyter-widgets/controls",
      "_view_module_version": "1.5.0",
      "_view_name": "HBoxView",
      "box_style": "",
      "children": [
       "IPY_MODEL_9d12b6cfa0f64127b0af8c25e5c34071",
       "IPY_MODEL_5cf0e90d59314f36be304be10ea360ee",
       "IPY_MODEL_630cb50fa8614c9da1ec913f82829efe"
      ],
      "layout": "IPY_MODEL_cd3eef0ece4740baa295871d75d647ab"
     }
    },
    "f0f265a37c424241bfdd843995e96f86": {
     "model_module": "@jupyter-widgets/base",
     "model_module_version": "1.2.0",
     "model_name": "LayoutModel",
     "state": {
      "_model_module": "@jupyter-widgets/base",
      "_model_module_version": "1.2.0",
      "_model_name": "LayoutModel",
      "_view_count": null,
      "_view_module": "@jupyter-widgets/base",
      "_view_module_version": "1.2.0",
      "_view_name": "LayoutView",
      "align_content": null,
      "align_items": null,
      "align_self": null,
      "border": null,
      "bottom": null,
      "display": null,
      "flex": null,
      "flex_flow": null,
      "grid_area": null,
      "grid_auto_columns": null,
      "grid_auto_flow": null,
      "grid_auto_rows": null,
      "grid_column": null,
      "grid_gap": null,
      "grid_row": null,
      "grid_template_areas": null,
      "grid_template_columns": null,
      "grid_template_rows": null,
      "height": null,
      "justify_content": null,
      "justify_items": null,
      "left": null,
      "margin": null,
      "max_height": null,
      "max_width": null,
      "min_height": null,
      "min_width": null,
      "object_fit": null,
      "object_position": null,
      "order": null,
      "overflow": null,
      "overflow_x": null,
      "overflow_y": null,
      "padding": null,
      "right": null,
      "top": null,
      "visibility": null,
      "width": null
     }
    },
    "f5a1076aba3e4868ac9e53d334ea1237": {
     "model_module": "@jupyter-widgets/base",
     "model_module_version": "1.2.0",
     "model_name": "LayoutModel",
     "state": {
      "_model_module": "@jupyter-widgets/base",
      "_model_module_version": "1.2.0",
      "_model_name": "LayoutModel",
      "_view_count": null,
      "_view_module": "@jupyter-widgets/base",
      "_view_module_version": "1.2.0",
      "_view_name": "LayoutView",
      "align_content": null,
      "align_items": null,
      "align_self": null,
      "border": null,
      "bottom": null,
      "display": null,
      "flex": null,
      "flex_flow": null,
      "grid_area": null,
      "grid_auto_columns": null,
      "grid_auto_flow": null,
      "grid_auto_rows": null,
      "grid_column": null,
      "grid_gap": null,
      "grid_row": null,
      "grid_template_areas": null,
      "grid_template_columns": null,
      "grid_template_rows": null,
      "height": null,
      "justify_content": null,
      "justify_items": null,
      "left": null,
      "margin": null,
      "max_height": null,
      "max_width": null,
      "min_height": null,
      "min_width": null,
      "object_fit": null,
      "object_position": null,
      "order": null,
      "overflow": null,
      "overflow_x": null,
      "overflow_y": null,
      "padding": null,
      "right": null,
      "top": null,
      "visibility": null,
      "width": null
     }
    },
    "f78ba759d5bf461ba67a652d5cd02440": {
     "model_module": "@jupyter-widgets/controls",
     "model_module_version": "1.5.0",
     "model_name": "DescriptionStyleModel",
     "state": {
      "_model_module": "@jupyter-widgets/controls",
      "_model_module_version": "1.5.0",
      "_model_name": "DescriptionStyleModel",
      "_view_count": null,
      "_view_module": "@jupyter-widgets/base",
      "_view_module_version": "1.2.0",
      "_view_name": "StyleView",
      "description_width": ""
     }
    },
    "ffa75a5ce0c54fc3a83f688869fc0f99": {
     "model_module": "@jupyter-widgets/base",
     "model_module_version": "1.2.0",
     "model_name": "LayoutModel",
     "state": {
      "_model_module": "@jupyter-widgets/base",
      "_model_module_version": "1.2.0",
      "_model_name": "LayoutModel",
      "_view_count": null,
      "_view_module": "@jupyter-widgets/base",
      "_view_module_version": "1.2.0",
      "_view_name": "LayoutView",
      "align_content": null,
      "align_items": null,
      "align_self": null,
      "border": null,
      "bottom": null,
      "display": null,
      "flex": null,
      "flex_flow": null,
      "grid_area": null,
      "grid_auto_columns": null,
      "grid_auto_flow": null,
      "grid_auto_rows": null,
      "grid_column": null,
      "grid_gap": null,
      "grid_row": null,
      "grid_template_areas": null,
      "grid_template_columns": null,
      "grid_template_rows": null,
      "height": null,
      "justify_content": null,
      "justify_items": null,
      "left": null,
      "margin": null,
      "max_height": null,
      "max_width": null,
      "min_height": null,
      "min_width": null,
      "object_fit": null,
      "object_position": null,
      "order": null,
      "overflow": null,
      "overflow_x": null,
      "overflow_y": null,
      "padding": null,
      "right": null,
      "top": null,
      "visibility": null,
      "width": null
     }
    }
   }
  }
 },
 "nbformat": 4,
 "nbformat_minor": 1
}
